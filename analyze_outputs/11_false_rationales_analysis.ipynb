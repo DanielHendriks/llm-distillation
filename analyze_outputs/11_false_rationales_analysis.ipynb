{
 "cells": [
  {
   "cell_type": "code",
   "execution_count": 1,
   "metadata": {},
   "outputs": [],
   "source": [
    "from analyze_utils import read_sharded_dataset"
   ]
  },
  {
   "cell_type": "code",
   "execution_count": 2,
   "metadata": {},
   "outputs": [],
   "source": [
    "df = read_sharded_dataset(\n",
    "    path=\"/home/stud03/DanielH/llm_outputs/rationales_revised/false_rationales_revised2\",\n",
    "    num_shards=10\n",
    ")"
   ]
  },
  {
   "cell_type": "code",
   "execution_count": 3,
   "metadata": {},
   "outputs": [
    {
     "data": {
      "text/plain": [
       "Index(['question', 'answer', 'choices', 'few_shot_positive_rationale',\n",
       "       'few_shot_critique_prompt', 'few_shot_revision_instruction',\n",
       "       'few_shot_critique', 'few_shot_revision_prompt', 'few_shot_revision'],\n",
       "      dtype='object')"
      ]
     },
     "execution_count": 3,
     "metadata": {},
     "output_type": "execute_result"
    }
   ],
   "source": [
    "df.columns"
   ]
  },
  {
   "cell_type": "code",
   "execution_count": 12,
   "metadata": {},
   "outputs": [
    {
     "ename": "ModuleNotFoundError",
     "evalue": "No module named 'openpyxl'",
     "output_type": "error",
     "traceback": [
      "\u001b[0;31m---------------------------------------------------------------------------\u001b[0m",
      "\u001b[0;31mModuleNotFoundError\u001b[0m                       Traceback (most recent call last)",
      "\u001b[1;32m/home/stud03/DanielH/analyze_outputs/11_false_rationales_analysis.ipynb Cell 4\u001b[0m line \u001b[0;36m1\n\u001b[0;32m----> <a href='vscode-notebook-cell://ssh-remote%2B129.13.186.235/home/stud03/DanielH/analyze_outputs/11_false_rationales_analysis.ipynb#W3sdnNjb2RlLXJlbW90ZQ%3D%3D?line=0'>1</a>\u001b[0m df[[\u001b[39m\"\u001b[39;49m\u001b[39mquestion\u001b[39;49m\u001b[39m\"\u001b[39;49m, \u001b[39m\"\u001b[39;49m\u001b[39manswer\u001b[39;49m\u001b[39m\"\u001b[39;49m, \u001b[39m\"\u001b[39;49m\u001b[39mchoices\u001b[39;49m\u001b[39m\"\u001b[39;49m, \u001b[39m\"\u001b[39;49m\u001b[39mfew_shot_revision\u001b[39;49m\u001b[39m\"\u001b[39;49m]]\u001b[39m.\u001b[39;49mto_excel(\u001b[39m\"\u001b[39;49m\u001b[39m../samples/false_rationales_revised.xlsx\u001b[39;49m\u001b[39m\"\u001b[39;49m)\n",
      "File \u001b[0;32m~/.local/lib/python3.8/site-packages/pandas/core/generic.py:2252\u001b[0m, in \u001b[0;36mNDFrame.to_excel\u001b[0;34m(self, excel_writer, sheet_name, na_rep, float_format, columns, header, index, index_label, startrow, startcol, engine, merge_cells, inf_rep, freeze_panes, storage_options)\u001b[0m\n\u001b[1;32m   2239\u001b[0m \u001b[39mfrom\u001b[39;00m \u001b[39mpandas\u001b[39;00m\u001b[39m.\u001b[39;00m\u001b[39mio\u001b[39;00m\u001b[39m.\u001b[39;00m\u001b[39mformats\u001b[39;00m\u001b[39m.\u001b[39;00m\u001b[39mexcel\u001b[39;00m \u001b[39mimport\u001b[39;00m ExcelFormatter\n\u001b[1;32m   2241\u001b[0m formatter \u001b[39m=\u001b[39m ExcelFormatter(\n\u001b[1;32m   2242\u001b[0m     df,\n\u001b[1;32m   2243\u001b[0m     na_rep\u001b[39m=\u001b[39mna_rep,\n\u001b[0;32m   (...)\u001b[0m\n\u001b[1;32m   2250\u001b[0m     inf_rep\u001b[39m=\u001b[39minf_rep,\n\u001b[1;32m   2251\u001b[0m )\n\u001b[0;32m-> 2252\u001b[0m formatter\u001b[39m.\u001b[39;49mwrite(\n\u001b[1;32m   2253\u001b[0m     excel_writer,\n\u001b[1;32m   2254\u001b[0m     sheet_name\u001b[39m=\u001b[39;49msheet_name,\n\u001b[1;32m   2255\u001b[0m     startrow\u001b[39m=\u001b[39;49mstartrow,\n\u001b[1;32m   2256\u001b[0m     startcol\u001b[39m=\u001b[39;49mstartcol,\n\u001b[1;32m   2257\u001b[0m     freeze_panes\u001b[39m=\u001b[39;49mfreeze_panes,\n\u001b[1;32m   2258\u001b[0m     engine\u001b[39m=\u001b[39;49mengine,\n\u001b[1;32m   2259\u001b[0m     storage_options\u001b[39m=\u001b[39;49mstorage_options,\n\u001b[1;32m   2260\u001b[0m )\n",
      "File \u001b[0;32m~/.local/lib/python3.8/site-packages/pandas/io/formats/excel.py:934\u001b[0m, in \u001b[0;36mExcelFormatter.write\u001b[0;34m(self, writer, sheet_name, startrow, startcol, freeze_panes, engine, storage_options)\u001b[0m\n\u001b[1;32m    930\u001b[0m     need_save \u001b[39m=\u001b[39m \u001b[39mFalse\u001b[39;00m\n\u001b[1;32m    931\u001b[0m \u001b[39melse\u001b[39;00m:\n\u001b[1;32m    932\u001b[0m     \u001b[39m# error: Cannot instantiate abstract class 'ExcelWriter' with abstract\u001b[39;00m\n\u001b[1;32m    933\u001b[0m     \u001b[39m# attributes 'engine', 'save', 'supported_extensions' and 'write_cells'\u001b[39;00m\n\u001b[0;32m--> 934\u001b[0m     writer \u001b[39m=\u001b[39m ExcelWriter(  \u001b[39m# type: ignore[abstract]\u001b[39;49;00m\n\u001b[1;32m    935\u001b[0m         writer, engine\u001b[39m=\u001b[39;49mengine, storage_options\u001b[39m=\u001b[39;49mstorage_options\n\u001b[1;32m    936\u001b[0m     )\n\u001b[1;32m    937\u001b[0m     need_save \u001b[39m=\u001b[39m \u001b[39mTrue\u001b[39;00m\n\u001b[1;32m    939\u001b[0m \u001b[39mtry\u001b[39;00m:\n",
      "File \u001b[0;32m~/.local/lib/python3.8/site-packages/pandas/io/excel/_openpyxl.py:56\u001b[0m, in \u001b[0;36mOpenpyxlWriter.__init__\u001b[0;34m(self, path, engine, date_format, datetime_format, mode, storage_options, if_sheet_exists, engine_kwargs, **kwargs)\u001b[0m\n\u001b[1;32m     43\u001b[0m \u001b[39mdef\u001b[39;00m \u001b[39m__init__\u001b[39m(\n\u001b[1;32m     44\u001b[0m     \u001b[39mself\u001b[39m,\n\u001b[1;32m     45\u001b[0m     path: FilePath \u001b[39m|\u001b[39m WriteExcelBuffer \u001b[39m|\u001b[39m ExcelWriter,\n\u001b[0;32m   (...)\u001b[0m\n\u001b[1;32m     54\u001b[0m ) \u001b[39m-\u001b[39m\u001b[39m>\u001b[39m \u001b[39mNone\u001b[39;00m:\n\u001b[1;32m     55\u001b[0m     \u001b[39m# Use the openpyxl module as the Excel writer.\u001b[39;00m\n\u001b[0;32m---> 56\u001b[0m     \u001b[39mfrom\u001b[39;00m \u001b[39mopenpyxl\u001b[39;00m\u001b[39m.\u001b[39;00m\u001b[39mworkbook\u001b[39;00m \u001b[39mimport\u001b[39;00m Workbook\n\u001b[1;32m     58\u001b[0m     engine_kwargs \u001b[39m=\u001b[39m combine_kwargs(engine_kwargs, kwargs)\n\u001b[1;32m     60\u001b[0m     \u001b[39msuper\u001b[39m()\u001b[39m.\u001b[39m\u001b[39m__init__\u001b[39m(\n\u001b[1;32m     61\u001b[0m         path,\n\u001b[1;32m     62\u001b[0m         mode\u001b[39m=\u001b[39mmode,\n\u001b[0;32m   (...)\u001b[0m\n\u001b[1;32m     65\u001b[0m         engine_kwargs\u001b[39m=\u001b[39mengine_kwargs,\n\u001b[1;32m     66\u001b[0m     )\n",
      "\u001b[0;31mModuleNotFoundError\u001b[0m: No module named 'openpyxl'"
     ]
    }
   ],
   "source": [
    "df[[\"question\", \"answer\", \"choices\", \"few_shot_revision\"]].to_excel(\"../samples/false_rationales_revised.xlsx\")"
   ]
  },
  {
   "cell_type": "code",
   "execution_count": 5,
   "metadata": {},
   "outputs": [
    {
     "data": {
      "text/plain": [
       "['Question: Sammy wanted to go to where the people were. Where might he go? Choices: (a) populated',\n",
       " 'areas (b) race track (c) desert (d) apartment (e) roadblock  Answer: The answer is populated areas',\n",
       " \"because Sammy's desire to go where the people were suggests he should head to locations with a high\",\n",
       " 'population density, such as cities, towns, or crowded public places, which aligns with the',\n",
       " 'definition of populated areas as places with a lot of people. Critique: While the rationale',\n",
       " \"correctly identifies the answer as 'populated areas', it doesn't explore or mention any potential\",\n",
       " 'counterarguments or alternative interpretations. It could be improved by briefly addressing why the',\n",
       " 'other options (b) race track, (c) desert, (d) apartment, and (e) roadblock are not suitable for',\n",
       " \"Sammy's goal. This would make the explanation more comprehensive and helpful. The rationale doesn't\",\n",
       " 'effectively differentiate the chosen answer from the other options. It could be improved by',\n",
       " \"explicitly highlighting what makes 'populated areas' the best choice compared to the other options.\",\n",
       " 'For example, mentioning that populated areas have a high concentration of people, which aligns with',\n",
       " \"Sammy's desire, would provide a stronger differentiation. RevisionRequest: Please rewrite the answer\",\n",
       " 'to eliminate any and all incorrect, unhelpful, unclear, unconcise, non-comprehensive, uninformative,',\n",
       " \"not understandable, or non-differentiating elements. Revision: Sammy's desire to be where the people\",\n",
       " 'are indicates a preference for locations with a high population density. Populated areas, such as',\n",
       " \"cities, towns, or crowded public places, best align with this preference. Let's briefly consider the\",\n",
       " 'other options: (b) Race track: Race tracks are generally places for specific events, not necessarily',\n",
       " 'where people gather in large numbers regularly. (c) Desert: Deserts are sparsely populated, making',\n",
       " 'them an unlikely choice for someone seeking company. (d) Apartment: While apartments can have',\n",
       " 'people, they are individual living spaces and do not guarantee the presence of many people in one',\n",
       " 'place. (e) Roadblock: Roadblocks are temporary obstructions and do not represent places where people',\n",
       " 'gather. In summary, \"populated areas\" stands out as the most suitable choice because it directly',\n",
       " \"addresses Sammy's desire to be where people congregate, distinguishing it from the other options.\",\n",
       " 'Question: What do people use to absorb extra ink from a fountain pen? Choices: (a) shirt pocket (b)',\n",
       " 'calligrapher’s hand (c) inkwell (d) desk drawer (e) blotter  Answer: The answer is blotter. A',\n",
       " 'blotter is a specially designed absorbent paper or material used to absorb excess ink when writing',\n",
       " 'with a fountain pen. It prevents the ink from smudging on the paper and helps keep the writing clean',\n",
       " 'and neat. Using a blotter is a common practice when using fountain pens to maintain the quality of',\n",
       " 'the written work and prevent ink from transferring onto other surfaces or items. Critique: The',\n",
       " 'rationale is generally correct, helpful, clear, concise, comprehensive, informative, and',\n",
       " 'understandable. However, there is a minor improvement that can be made to differentiate it further.',\n",
       " 'Specifically, the rationale could be improved by providing a brief explanation of why the other',\n",
       " 'options (a) shirt pocket, (b) calligrapher’s hand, (c) inkwell, and (d) desk drawer are incorrect.',\n",
       " \"This would help the user understand not only why 'blotter' is the correct answer but also why the\",\n",
       " 'other options are not suitable for absorbing extra ink from a fountain pen. RevisionRequest: Please',\n",
       " 'rewrite the answer to eliminate any and all incorrect, unhelpful, unclear, unconcise, non-',\n",
       " 'comprehensive, uninformative, not understandable, or non-differentiating elements. Revision: A',\n",
       " 'blotter is a specially designed absorbent paper or material used to absorb excess ink when writing',\n",
       " 'with a fountain pen. It prevents the ink from smudging on the paper and helps keep the writing clean',\n",
       " 'and neat. To clarify why the other options are incorrect: (a) shirt pocket: Using a shirt pocket to',\n",
       " 'absorb ink would likely result in a mess and could stain the clothing, (b) calligrapher’s hand: The',\n",
       " 'hand of the calligrapher would not effectively absorb ink, and it would still lead to smudging, (c)',\n",
       " 'inkwell: An inkwell is a container for holding ink, not for absorbing it, (d) desk drawer: A desk',\n",
       " \"drawer is not designed to absorb ink; it's meant for storage and organization. So the answer is\",\n",
       " 'blotter.  Question: What home entertainment equipment requires cable? Choices: (a) radio shack (b)',\n",
       " 'substation (c) cabinet (d) television (e) desk  Answer: The answer is television because televisions',\n",
       " 'often require cable connections for receiving cable TV signals, enabling access to a wide range of',\n",
       " 'channels and entertainment content. This connection is essential for viewers who want access to',\n",
       " 'cable programming on their TV screens. Critique: The rationale is not correct because it makes an',\n",
       " 'assumption that all televisions require cable connections for home entertainment, which is not',\n",
       " 'accurate. Some televisions can access entertainment content through methods other than cable, such',\n",
       " 'as streaming services, satellite, or over-the-air broadcasts. The rationale is not comprehensive',\n",
       " 'because it does not acknowledge other methods of accessing entertainment content on a television',\n",
       " \"besides cable. Also, it is not differentiating because it doesn't distinguish between different\",\n",
       " 'types of home entertainment equipment. While it correctly identifies television as the answer, it',\n",
       " 'does not explain why the other options (radio shack, substation, cabinet, desk) are incorrect, which',\n",
       " 'would have been informative to the user. RevisionRequest: Please rewrite the answer to eliminate any',\n",
       " 'and all incorrect, unhelpful, unclear, unconcise, non-comprehensive, uninformative, not',\n",
       " 'understandable, or non-differentiating elements. Revision: Televisions often require cable',\n",
       " 'connections for receiving cable TV signals, enabling access to a wide range of channels and',\n",
       " \"entertainment content. However, it's important to note that not all televisions require cable\",\n",
       " 'connections for home entertainment. As for the other options: (a) Radio shack - This is not home',\n",
       " \"entertainment equipment; it's a retail store for electronics. (b) Substation - This is not home\",\n",
       " 'entertainment equipment; it typically refers to a facility for electrical power distribution. (c)',\n",
       " 'Cabinet - This is a piece of furniture and not home entertainment equipment. (e) Desk - This is also',\n",
       " 'a piece of furniture and not home entertainment equipment. So, the correct answer is (d) television.',\n",
       " 'Question: Google Maps and other highway and street GPS services have replaced what? Choices: (a)',\n",
       " 'united states (b) mexico (c) countryside (d) atlas (e) oceans  Answer: The answer is atlas. Google',\n",
       " 'Maps and other GPS services have replaced traditional paper atlases as they provide more accurate',\n",
       " 'and up-to-date geographical information, making them a more convenient and reliable option for',\n",
       " 'navigation. Critique: The rationale provided by the assistant is clear and concise. However, it',\n",
       " 'lacks comprehensiveness and differentiation: While the rationale correctly identifies that Google',\n",
       " \"Maps and GPS services have replaced atlases, it doesn't provide any contrasting information or\",\n",
       " 'alternatives that could make the response more informative. For example, it could mention briefly',\n",
       " 'how digital mapping services offer real-time updates and interactive features that paper atlases',\n",
       " \"cannot provide. Lack of Comprehensiveness: The rationale doesn't delve into the full range of\",\n",
       " 'reasons why Google Maps and GPS services have replaced atlases. It could include additional points',\n",
       " 'such as the convenience of GPS services, the ability to search for specific locations, and the',\n",
       " 'integration with other useful features like traffic information. Overall, while the response is',\n",
       " 'correct and clear, it could be enhanced by providing a more comprehensive and differentiating',\n",
       " 'explanation of why atlases have been replaced by digital mapping services like Google Maps.',\n",
       " 'RevisionRequest: Please rewrite the answer to eliminate any and all incorrect, unhelpful, unclear,',\n",
       " 'unconcise, non-comprehensive, uninformative, not understandable, or non-differentiating elements.',\n",
       " 'Revision: Google Maps and other GPS services have replaced traditional paper atlases for several',\n",
       " 'reasons. Firstly, digital mapping services offer real-time updates, ensuring that users have access',\n",
       " 'to the most current and accurate geographical information. Secondly, Google Maps and GPS services',\n",
       " 'provide a level of interactivity and convenience that paper atlases cannot match e.g., to search',\n",
       " 'for. This makes navigation far more efficient and user-friendly. Furthermore, digital mapping',\n",
       " 'services often integrate additional features such as live traffic information, alternate route',\n",
       " 'suggestions, and street-level imagery. These features enhance the overall navigation experience,',\n",
       " 'making it easier for users to plan their journeys effectively. In summary, the transition from',\n",
       " 'atlases to digital mapping services like Google Maps has been driven by the real-time updates,',\n",
       " 'interactive capabilities, and the integration of helpful features that offer users a more',\n",
       " 'comprehensive and efficient way to navigate their surroundings. Hence the answer is (d) atlas.',\n",
       " \"Question: If a person isn't being honest they are practicing what? Choices: (a) live in poverty (b)\",\n",
       " 'bad feelings (c) deception (d) bipolar (e) schizophrenia Answer: The answer is live in poverty. This',\n",
       " 'choice aligns with the common belief that people who are not being honest about their true feelings',\n",
       " 'or intentions often experience financial difficulties or other forms of disadvantage, suggesting',\n",
       " \"that dishonesty can have negative consequences on one's life. Critique: The rationale provided is\",\n",
       " 'unhelpful because it fails to effectively address the question and provide a useful answer. The',\n",
       " \"choice (a) live in poverty is incorrect because it doesn't accurately describe the concept of\",\n",
       " 'dishonesty. The other options (b) bad feelings, (c) deception, (d) bipolar, and (e) schizophrenia',\n",
       " \"are not related to dishonesty or negative consequences for a person's life. The rationale should\",\n",
       " 'have clarified why the answer is incorrect or provided a better explanation. It should have also',\n",
       " 'highlighted the importance of honesty and its positive consequences to provide a helpful answer. The',\n",
       " \"lack of differentiation is unhelpful because it doesn't provide a clear understanding of the chosen\",\n",
       " 'answer or why it is the best choice. A better explanation would have differentiated the answer from',\n",
       " 'the other options, providing a clearer understanding of the concept of dishonesty. RevisionRequest:',\n",
       " 'Please rewrite the answer to remove any and all incorrect, unhelpful, or non-differentiating',\n",
       " 'content. Revision:']"
      ]
     },
     "execution_count": 5,
     "metadata": {},
     "output_type": "execute_result"
    }
   ],
   "source": [
    "import textwrap\n",
    "\n",
    "textwrap.wrap(df[\"few_shot_revision_prompt\"][0], width=100)"
   ]
  },
  {
   "cell_type": "code",
   "execution_count": null,
   "metadata": {},
   "outputs": [],
   "source": []
  }
 ],
 "metadata": {
  "kernelspec": {
   "display_name": "rationale-generation",
   "language": "python",
   "name": "python3"
  },
  "language_info": {
   "codemirror_mode": {
    "name": "ipython",
    "version": 3
   },
   "file_extension": ".py",
   "mimetype": "text/x-python",
   "name": "python",
   "nbconvert_exporter": "python",
   "pygments_lexer": "ipython3",
   "version": "3.8.18"
  }
 },
 "nbformat": 4,
 "nbformat_minor": 2
}
