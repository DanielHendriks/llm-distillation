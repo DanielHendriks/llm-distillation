{
 "cells": [
  {
   "cell_type": "code",
   "execution_count": 1,
   "id": "a4e0c7c0",
   "metadata": {},
   "outputs": [],
   "source": [
    "import pandas as pd\n",
    "from pathlib import Path\n",
    "import os"
   ]
  },
  {
   "cell_type": "code",
   "execution_count": 2,
   "id": "ea92bb55",
   "metadata": {},
   "outputs": [],
   "source": [
    "csv_fns = list(Path('.').glob('*.csv'))"
   ]
  },
  {
   "cell_type": "code",
   "execution_count": 3,
   "id": "6f0fd288",
   "metadata": {},
   "outputs": [
    {
     "data": {
      "text/plain": [
       "[PosixPath('revived-donkey-11.csv'),\n",
       " PosixPath('t5large-both-0-few-shot-revision.csv')]"
      ]
     },
     "execution_count": 3,
     "metadata": {},
     "output_type": "execute_result"
    }
   ],
   "source": [
    "csv_fns"
   ]
  },
  {
   "cell_type": "code",
   "execution_count": 4,
   "id": "fe42e96d",
   "metadata": {},
   "outputs": [],
   "source": [
    "revised   = pd.read_csv(csv_fns[1])\n",
    "unrevised = pd.read_csv(csv_fns[0])\n",
    "\n",
    "revised = revised.drop('input_(counterfactual)explain',axis=1)\n",
    "revised = revised.drop('answers_labels',axis=1)\n",
    "unrevised = unrevised.drop('input_(counterfactual)explain',axis=1)"
   ]
  },
  {
   "cell_type": "code",
   "execution_count": 5,
   "id": "4bcc4404",
   "metadata": {},
   "outputs": [],
   "source": [
    "merged = pd.merge(unrevised,revised,how='left',validate='1:1',on=['input_predict'],suffixes=['_unrevised','_revised'])"
   ]
  },
  {
   "cell_type": "code",
   "execution_count": 6,
   "id": "f188c6c0",
   "metadata": {},
   "outputs": [],
   "source": [
    "rename = {\n",
    "    \"input_predict\": \"Prompt\",\n",
    "    \"answers_labels\": \"Ground truth\",\n",
    "    \"rationales_labels_unrevised\": \"Unrevised rationale\",\n",
    "    \"rationales_labels_revised\": \"Revised rationale\",\n",
    "    \"answers_preds_unrevised\": \"Answers (student MT+CF:Unrevised)\",\n",
    "    \"answers_preds_revised\": \"Answers (student MT+CF:Revised)\",\n",
    "    \"rationales_preds_unrevised\": \"Explanation (student MT+CF:Unrevised)\",\n",
    "    \"rationales_preds_revised\": \"Explanation (student MT+CF:Revised)\",\n",
    "    }"
   ]
  },
  {
   "cell_type": "code",
   "execution_count": 7,
   "id": "74d9e10c",
   "metadata": {},
   "outputs": [],
   "source": [
    "merged = merged.rename(rename, axis=1)\n",
    "merged = merged[list(rename.values())]"
   ]
  },
  {
   "cell_type": "code",
   "execution_count": 8,
   "id": "0e0da09b",
   "metadata": {},
   "outputs": [
    {
     "data": {
      "text/html": [
       "<div>\n",
       "<style scoped>\n",
       "    .dataframe tbody tr th:only-of-type {\n",
       "        vertical-align: middle;\n",
       "    }\n",
       "\n",
       "    .dataframe tbody tr th {\n",
       "        vertical-align: top;\n",
       "    }\n",
       "\n",
       "    .dataframe thead th {\n",
       "        text-align: right;\n",
       "    }\n",
       "</style>\n",
       "<table border=\"1\" class=\"dataframe\">\n",
       "  <thead>\n",
       "    <tr style=\"text-align: right;\">\n",
       "      <th></th>\n",
       "      <th>Prompt</th>\n",
       "      <th>Ground truth</th>\n",
       "      <th>Unrevised rationale</th>\n",
       "      <th>Revised rationale</th>\n",
       "      <th>Answers (student MT+CF:Unrevised)</th>\n",
       "      <th>Answers (student MT+CF:Revised)</th>\n",
       "      <th>Explanation (student MT+CF:Unrevised)</th>\n",
       "      <th>Explanation (student MT+CF:Revised)</th>\n",
       "    </tr>\n",
       "  </thead>\n",
       "  <tbody>\n",
       "    <tr>\n",
       "      <th>0</th>\n",
       "      <td>[predict] Question: A beaver is know for building prowess, their supplies come from where? Choices: (a) british columbia (b) body of water (c) wooded area (d) pay debts (e) zoo</td>\n",
       "      <td>The answer is wooded area</td>\n",
       "      <td>Beavers rely on the wooded areas to obtain materials for building their dams and lodges. This provides a convenient and abundant source of raw materials, which is essential for the beavers' construction activities.</td>\n",
       "      <td>Beavers rely on these areas for the necessary materials to build their dams and lodges. This choice is better than the other options because beavers require specific types of wood and other materials found in wooded areas to construct their homes effectively. For example, willows and cottonwoods are ideal for building dams, while aspen, birch, and alder are better suited for constructing lodges. These materials are more readily available in wooded areas than other environments, such as bodies of water, British Columbia, or zoos. Moreover, beavers often have a preference for building their homes near or within the wooded areas they inhabit, as this allows for more efficient access to materials and provides a more natural and familiar environment for the beavers. In conclusion, wooded areas serve as the most suitable choice for beavers' construction supplies due to the abundance of essential materials, the beavers' preference for building near their habitats, and the specific requirements of their construction activities.</td>\n",
       "      <td>The answer is body of water</td>\n",
       "      <td>The answer is body of water</td>\n",
       "      <td>This choice aligns with the beaver's ability to build dams and dams, which are essential for their survival and survival.</td>\n",
       "      <td>The beaver's building prowess comes from the presence of water, which provides them with the necessary materials for building. This choice aligns with the beaver's natural habitat and provides them with the necessary resources for building.</td>\n",
       "    </tr>\n",
       "    <tr>\n",
       "      <th>1</th>\n",
       "      <td>[predict] Question: A car was hailed to chauffeur someone to the opera house, where was it heading? Choices: (a) go downtown (b) appear suddenly (c) go fast (d) bottom out (e) east</td>\n",
       "      <td>The answer is go downtown</td>\n",
       "      <td>A car was hailed to chauffeur someone to the opera house, where was it heading? A car was hailed to chauffeur someone to the opera house, where was it heading?</td>\n",
       "      <td>Based on the context of a car being hailed to chauffeur someone to the opera house, it is likely that the destination is a downtown location. Opera houses are typically found in urban areas and downtown districts, making it a strong assumption that the car is headed to a downtown area.</td>\n",
       "      <td>The answer is go downtown</td>\n",
       "      <td>The answer is go downtown</td>\n",
       "      <td>This choice aligns with the context of the question, which suggests that the car was heading to the opera house, which is a popular destination for opera performances.</td>\n",
       "      <td>The car was hailed to chauffeur someone to the opera house, which is a popular opera house in New York City. This choice aligns with the context of the question, which is about a car being hailed to chauffeur someone to an opera house. The other options do not accurately reflect the context of the question, such as (a) appear suddenly, (b) go fast, and (c) bottom out.</td>\n",
       "    </tr>\n",
       "    <tr>\n",
       "      <th>2</th>\n",
       "      <td>[predict] Question: A child wants to play, what would they likely want? Choices: (a) fall down (b) breathe (c) play tag (d) be dismembered by a chainsaw (e) become adult</td>\n",
       "      <td>The answer is play tag</td>\n",
       "      <td>This choice aligns with the child's desire to have fun and engage in physical activity. Tag is a classic game that requires speed, agility, and strategy, which makes it a popular choice among children.</td>\n",
       "      <td>This aligns with the child's desire to engage in fun and physical activities that promote development and well-being. Tag is a popular choice among children because it encourages physical activity, social interaction, and cognitive development. Compared to the other options, play tag best addresses the child's need for a playful and engaging activity that promotes their overall well-being. The other choices do not provide the same benefits and may not align with the child's interests or abilities. For example, falling down (a) may be harmful and discourage the child from engaging in physical activities. Becoming adult (e) is not a feasible or desirable option for a child. Therefore, play tag is the most suitable choice for a child who wants to play.</td>\n",
       "      <td>The answer is play tag</td>\n",
       "      <td>The answer is play tag</td>\n",
       "      <td>This choice aligns with the child's desire to play and engage in physical activity, such as running, jumping, and playing tag. This choice also aligns with the child's desire to engage in physical activity and engage in physical activity, such as running, jumping, and playing tag.</td>\n",
       "      <td>The child wants to play tag because it is a popular game that involves running, jumping, and catching balls. This choice aligns with the child's desire to play and engage in physical activity, which is a common desire for children. While the other options (a) fall down, (b) breathe, and (d) become adult are not suitable for a child's play, they are not as relevant to the child's play.</td>\n",
       "    </tr>\n",
       "    <tr>\n",
       "      <th>3</th>\n",
       "      <td>[predict] Question: A farmer sees a weasel in the woods, where is the farmer? Choices: (a) chicken coop (b) beach (c) fairytale (d) great outdoors (e) corn fields</td>\n",
       "      <td>The answer is great outdoors</td>\n",
       "      <td>This choice aligns with the farmer's location in the woods, where the farmer encounters the weasel, indicating the setting of the farmer's story, which is outdoors in the rural or natural landscape.</td>\n",
       "      <td>The woods where the farmer encounters the weasel implies a rural or natural setting, and the great outdoors aligns with this setting. The other options do not accurately represent this setting: (a) chicken coop: This is a confined indoor space and doesn't relate to the farmer's encounter in the woods, (b) beach: This is an open area near the ocean and doesn't fit the woods setting, (c) fairytale: This is a fictional or imaginary place and has no connection to the farmer's real-world experience in the woods, and (d) corn fields: This is a specific crop field and has no relation to the farmer's encounter with the weasel in the woods. Therefore, the answer is great outdoors.</td>\n",
       "      <td>The answer is corn fields</td>\n",
       "      <td>The answer is corn fields</td>\n",
       "      <td>This choice aligns with the farmer's location in the woods, which is a common location for weasels to be found. This choice also aligns with the farmer's natural habitat, which is typically a rural area with a high concentration of weasels.</td>\n",
       "      <td>The farmer is likely in the corn fields, as this is where the weasel is likely to be found. This choice aligns with the farmer's natural habitat and provides a suitable environment for the weasel to thrive. The other options (a) chicken coop, (b) fairytale, and (d) great outdoors do not provide the same level of protection and protection as the corn fields. The corn fields are the most suitable location for the weasel to be found, as they provide a suitable environment for the weasel to thrive.</td>\n",
       "    </tr>\n",
       "    <tr>\n",
       "      <th>4</th>\n",
       "      <td>[predict] Question: A gentleman is carrying equipment for golf, what is he likely to have? Choices: (a) club (b) assembly hall (c) meditation center (d) meeting (e) church</td>\n",
       "      <td>The answer is club</td>\n",
       "      <td>A gentleman carrying golf equipment is likely to have a golf club, which is a long-handled stick with a head made of metal or wood and a variety of club faces. This tool is used to hit the ball in golf and is an essential component of the sport.</td>\n",
       "      <td>A gentleman carrying golf equipment is likely to have a golf club, specifically one of several types used in golf to hit the ball toward the hole. These clubs include drivers, irons, and putters, each with its unique purpose and features. Identifying the type of club a gentleman is carrying can help you understand his golfing needs and preferences and offer appropriate assistance or advice. The other options are not relevant to golf or the gentleman's golf equipment.</td>\n",
       "      <td>The answer is club</td>\n",
       "      <td>The answer is club</td>\n",
       "      <td>This choice aligns with the gentleman's interest in golf and the equipment he is likely to have, as clubs are typically equipped with the necessary equipment for golf.</td>\n",
       "      <td>The gentleman is likely to have a golf club because it is a place where golfers gather to play and socialize. This choice aligns with the gentleman's interest in golf and the equipment he is likely to have.</td>\n",
       "    </tr>\n",
       "  </tbody>\n",
       "</table>\n",
       "</div>"
      ],
      "text/plain": [
       "                                                                                                                                                                                 Prompt  \\\n",
       "0      [predict] Question: A beaver is know for building prowess, their supplies come from where? Choices: (a) british columbia (b) body of water (c) wooded area (d) pay debts (e) zoo   \n",
       "1  [predict] Question: A car was hailed to chauffeur someone to the opera house, where was it heading? Choices: (a) go downtown (b) appear suddenly (c) go fast (d) bottom out (e) east   \n",
       "2             [predict] Question: A child wants to play, what would they likely want? Choices: (a) fall down (b) breathe (c) play tag (d) be dismembered by a chainsaw (e) become adult   \n",
       "3                    [predict] Question: A farmer sees a weasel in the woods, where is the farmer? Choices: (a) chicken coop (b) beach (c) fairytale (d) great outdoors (e) corn fields   \n",
       "4           [predict] Question: A gentleman is carrying equipment for golf, what is he likely to have? Choices: (a) club (b) assembly hall (c) meditation center (d) meeting (e) church   \n",
       "\n",
       "                   Ground truth  \\\n",
       "0     The answer is wooded area   \n",
       "1     The answer is go downtown   \n",
       "2        The answer is play tag   \n",
       "3  The answer is great outdoors   \n",
       "4            The answer is club   \n",
       "\n",
       "                                                                                                                                                                                                                                     Unrevised rationale  \\\n",
       "0                                 Beavers rely on the wooded areas to obtain materials for building their dams and lodges. This provides a convenient and abundant source of raw materials, which is essential for the beavers' construction activities.   \n",
       "1                                                                                        A car was hailed to chauffeur someone to the opera house, where was it heading? A car was hailed to chauffeur someone to the opera house, where was it heading?   \n",
       "2                                              This choice aligns with the child's desire to have fun and engage in physical activity. Tag is a classic game that requires speed, agility, and strategy, which makes it a popular choice among children.   \n",
       "3                                                 This choice aligns with the farmer's location in the woods, where the farmer encounters the weasel, indicating the setting of the farmer's story, which is outdoors in the rural or natural landscape.   \n",
       "4  A gentleman carrying golf equipment is likely to have a golf club, which is a long-handled stick with a head made of metal or wood and a variety of club faces. This tool is used to hit the ball in golf and is an essential component of the sport.   \n",
       "\n",
       "                                                                                                                                                                                                                                                                                                                                                                                                                                                                                                                                                                                                                                                                                                                                                                                                                                                                                                                                                                                                                                                             Revised rationale  \\\n",
       "0  Beavers rely on these areas for the necessary materials to build their dams and lodges. This choice is better than the other options because beavers require specific types of wood and other materials found in wooded areas to construct their homes effectively. For example, willows and cottonwoods are ideal for building dams, while aspen, birch, and alder are better suited for constructing lodges. These materials are more readily available in wooded areas than other environments, such as bodies of water, British Columbia, or zoos. Moreover, beavers often have a preference for building their homes near or within the wooded areas they inhabit, as this allows for more efficient access to materials and provides a more natural and familiar environment for the beavers. In conclusion, wooded areas serve as the most suitable choice for beavers' construction supplies due to the abundance of essential materials, the beavers' preference for building near their habitats, and the specific requirements of their construction activities.   \n",
       "1                                                                                                                                                                                                                                                                                                                                                                                                                                                                                                                                                                                                                                                                                                                                                                               Based on the context of a car being hailed to chauffeur someone to the opera house, it is likely that the destination is a downtown location. Opera houses are typically found in urban areas and downtown districts, making it a strong assumption that the car is headed to a downtown area.   \n",
       "2                                                                                                                                                                                                                                                                                      This aligns with the child's desire to engage in fun and physical activities that promote development and well-being. Tag is a popular choice among children because it encourages physical activity, social interaction, and cognitive development. Compared to the other options, play tag best addresses the child's need for a playful and engaging activity that promotes their overall well-being. The other choices do not provide the same benefits and may not align with the child's interests or abilities. For example, falling down (a) may be harmful and discourage the child from engaging in physical activities. Becoming adult (e) is not a feasible or desirable option for a child. Therefore, play tag is the most suitable choice for a child who wants to play.   \n",
       "3                                                                                                                                                                                                                                                                                                                                                                     The woods where the farmer encounters the weasel implies a rural or natural setting, and the great outdoors aligns with this setting. The other options do not accurately represent this setting: (a) chicken coop: This is a confined indoor space and doesn't relate to the farmer's encounter in the woods, (b) beach: This is an open area near the ocean and doesn't fit the woods setting, (c) fairytale: This is a fictional or imaginary place and has no connection to the farmer's real-world experience in the woods, and (d) corn fields: This is a specific crop field and has no relation to the farmer's encounter with the weasel in the woods. Therefore, the answer is great outdoors.   \n",
       "4                                                                                                                                                                                                                                                                                                                                                                                                                                                                                                                                                                                      A gentleman carrying golf equipment is likely to have a golf club, specifically one of several types used in golf to hit the ball toward the hole. These clubs include drivers, irons, and putters, each with its unique purpose and features. Identifying the type of club a gentleman is carrying can help you understand his golfing needs and preferences and offer appropriate assistance or advice. The other options are not relevant to golf or the gentleman's golf equipment.   \n",
       "\n",
       "  Answers (student MT+CF:Unrevised) Answers (student MT+CF:Revised)  \\\n",
       "0       The answer is body of water     The answer is body of water   \n",
       "1         The answer is go downtown       The answer is go downtown   \n",
       "2            The answer is play tag          The answer is play tag   \n",
       "3         The answer is corn fields       The answer is corn fields   \n",
       "4                The answer is club              The answer is club   \n",
       "\n",
       "                                                                                                                                                                                                                                                       Explanation (student MT+CF:Unrevised)  \\\n",
       "0                                                                                                                                                                  This choice aligns with the beaver's ability to build dams and dams, which are essential for their survival and survival.   \n",
       "1                                                                                                                    This choice aligns with the context of the question, which suggests that the car was heading to the opera house, which is a popular destination for opera performances.   \n",
       "2  This choice aligns with the child's desire to play and engage in physical activity, such as running, jumping, and playing tag. This choice also aligns with the child's desire to engage in physical activity and engage in physical activity, such as running, jumping, and playing tag.   \n",
       "3                                           This choice aligns with the farmer's location in the woods, which is a common location for weasels to be found. This choice also aligns with the farmer's natural habitat, which is typically a rural area with a high concentration of weasels.   \n",
       "4                                                                                                                    This choice aligns with the gentleman's interest in golf and the equipment he is likely to have, as clubs are typically equipped with the necessary equipment for golf.   \n",
       "\n",
       "                                                                                                                                                                                                                                                                                                                                                                                                                                                                                   Explanation (student MT+CF:Revised)  \n",
       "0                                                                                                                                                                                                                                                                     The beaver's building prowess comes from the presence of water, which provides them with the necessary materials for building. This choice aligns with the beaver's natural habitat and provides them with the necessary resources for building.  \n",
       "1                                                                                                                                   The car was hailed to chauffeur someone to the opera house, which is a popular opera house in New York City. This choice aligns with the context of the question, which is about a car being hailed to chauffeur someone to an opera house. The other options do not accurately reflect the context of the question, such as (a) appear suddenly, (b) go fast, and (c) bottom out.  \n",
       "2                                                                                                                  The child wants to play tag because it is a popular game that involves running, jumping, and catching balls. This choice aligns with the child's desire to play and engage in physical activity, which is a common desire for children. While the other options (a) fall down, (b) breathe, and (d) become adult are not suitable for a child's play, they are not as relevant to the child's play.  \n",
       "3  The farmer is likely in the corn fields, as this is where the weasel is likely to be found. This choice aligns with the farmer's natural habitat and provides a suitable environment for the weasel to thrive. The other options (a) chicken coop, (b) fairytale, and (d) great outdoors do not provide the same level of protection and protection as the corn fields. The corn fields are the most suitable location for the weasel to be found, as they provide a suitable environment for the weasel to thrive.  \n",
       "4                                                                                                                                                                                                                                                                                                       The gentleman is likely to have a golf club because it is a place where golfers gather to play and socialize. This choice aligns with the gentleman's interest in golf and the equipment he is likely to have.  "
      ]
     },
     "execution_count": 8,
     "metadata": {},
     "output_type": "execute_result"
    }
   ],
   "source": [
    "pd.set_option('display.max_rows', None)\n",
    "pd.set_option('display.max_columns', None)\n",
    "pd.set_option('display.width', None)\n",
    "pd.set_option('display.max_colwidth', None)\n",
    "merged.head()"
   ]
  },
  {
   "cell_type": "code",
   "execution_count": 9,
   "id": "7122f965",
   "metadata": {},
   "outputs": [
    {
     "data": {
      "text/plain": [
       "(1221, 8)"
      ]
     },
     "execution_count": 9,
     "metadata": {},
     "output_type": "execute_result"
    }
   ],
   "source": [
    "merged.shape"
   ]
  },
  {
   "cell_type": "code",
   "execution_count": 10,
   "id": "88425766",
   "metadata": {},
   "outputs": [
    {
     "data": {
      "text/html": [
       "<div>\n",
       "<style scoped>\n",
       "    .dataframe tbody tr th:only-of-type {\n",
       "        vertical-align: middle;\n",
       "    }\n",
       "\n",
       "    .dataframe tbody tr th {\n",
       "        vertical-align: top;\n",
       "    }\n",
       "\n",
       "    .dataframe thead th {\n",
       "        text-align: right;\n",
       "    }\n",
       "</style>\n",
       "<table border=\"1\" class=\"dataframe\">\n",
       "  <thead>\n",
       "    <tr style=\"text-align: right;\">\n",
       "      <th></th>\n",
       "      <th>Prompt</th>\n",
       "      <th>Ground truth</th>\n",
       "      <th>Unrevised rationale</th>\n",
       "      <th>Revised rationale</th>\n",
       "      <th>Answers (student MT+CF:Unrevised)</th>\n",
       "      <th>Answers (student MT+CF:Revised)</th>\n",
       "      <th>Explanation (student MT+CF:Unrevised)</th>\n",
       "      <th>Explanation (student MT+CF:Revised)</th>\n",
       "    </tr>\n",
       "  </thead>\n",
       "  <tbody>\n",
       "    <tr>\n",
       "      <th>354</th>\n",
       "      <td>[predict] Question: The weasel ran up away from danger, somebody joked only our first president could get him down from the what? Choices: (a) washington dc (b) ladder (c) natural history museum (d) cherry tree (e) chicken coop</td>\n",
       "      <td>The answer is cherry tree</td>\n",
       "      <td>This choice aligns with the weasel escaping up away from danger, and somebody joking that only the first president could get him down from the cherry tree. This suggests that the tree was a cherry tree and that it was in some sort of danger, and the weasel's escape was a joke about how only</td>\n",
       "      <td>This aligns with the weasel escaping upward from danger, and the joke about only the first president being able to bring the weasel down from the tree. The choice is clear and concise and differentiates from the other options.</td>\n",
       "      <td>The answer is cherry tree</td>\n",
       "      <td>The answer is ladder</td>\n",
       "      <td>This choice aligns with the weasel's run away from danger, suggesting that only our first president could get him down from the cherry tree.</td>\n",
       "      <td>The weasel ran up a ladder to escape danger, suggesting that only President George Washington could get him down from the tree. This choice aligns with the context of the question, which suggests that the weasel ran up a ladder to escape danger. The other options do not align with the context of the question, such as (a) natural history museum, (b) cherry tree, or (c) chicken coop, which do not relate to the weasel's run up from danger. (d) Chicken coop: Chicken coops are not suitable for the weasel's run up from danger, and (e) chicken coop: Chicken coops are not suitable for the weasel's run up from danger, and (e) chicken coop: Chicken coops are not suitable for the weasel's run up from danger, and (e) chicken coop: Chicken coops are not suitable for the weasel's run up from danger, and (e) chicken coops are not suitable for the weasel's run up from danger.</td>\n",
       "    </tr>\n",
       "    <tr>\n",
       "      <th>617</th>\n",
       "      <td>[predict] Question: Sally was afraid of danger and always double checked what? Choices: (a) fight enemy (b) secure (c) being safe (d) safety (e) vicinity</td>\n",
       "      <td>The answer is safety</td>\n",
       "      <td>Sally's fear of danger suggests that she has a cautious and preventive approach towards ensuring her own safety and security. This is consistent with the definition of safety, which refers to the state of being free from harm or risk, or the measures taken to ensure it.</td>\n",
       "      <td>Sally's fear of danger suggests that she values her safety and takes preventive measures to ensure it. To clarify why safety is the correct answer: (a) fight enemy: Sally is not looking to engage in a fight, but rather to ensure her safety, (b) secure: Sally's fear of danger implies that she wants to secure her safety, (c) being safe: Sally's primary concern is her own safety, (d) safety: This option directly aligns with Sally's fear of danger and her desire to ensure her own safety.</td>\n",
       "      <td>The answer is being safe</td>\n",
       "      <td>The answer is safety</td>\n",
       "      <td>This choice aligns with Sally's fear of danger and her need to ensure that she is safe and secure. This choice aligns with her fear of danger and her need to ensure that she is safe and secure.</td>\n",
       "      <td>The phrase \"sally was afraid of danger\" implies that Sally was concerned about the safety of herself and others, which aligns with the definition of safety as the ability to protect oneself from harm or harm. This choice aligns with the definition of safety as the ability to protect oneself from harm or harm.</td>\n",
       "    </tr>\n",
       "    <tr>\n",
       "      <th>1047</th>\n",
       "      <td>[predict] Question: Where is a dining area likely to be small? Choices: (a) cruise ship (b) home (c) mall (d) restaurant (e) dark cave</td>\n",
       "      <td>The answer is home</td>\n",
       "      <td>It is where you would expect to find a small dining area, as it is usually located in a smaller space within a house, such as a kitchen or a breakfast nook, compared to larger dining areas found in restaurants or cruise ships.</td>\n",
       "      <td>A home is likely to have a small dining area due to spatial constraints and the need for functional use of space. This is in contrast to other locations, such as restaurants or cruise ships, where the primary purpose is dining and there is more space available for large dining areas. In a home, the dining area is often integrated with other functional areas, such as the kitchen or living room, and is therefore likely to be smaller in size. The answer is more specific and differentiated compared to the other options, which are not typically associated with small dining areas.</td>\n",
       "      <td>The answer is restaurant</td>\n",
       "      <td>The answer is mall</td>\n",
       "      <td>This choice aligns with the typical size of a dining area in a restaurant, which is typically smaller than a dining area in a home.</td>\n",
       "      <td>The dining area is likely to be small in a cruise ship because it is a large vessel with a limited dining area. This choice aligns with the definition of a cruise ship as a large vessel with a limited dining area. In contrast, a home or dark cave are not likely to have a dining area because they are not designed for dining, and a restaurant is a place where people can go to eat. Therefore, a dining area in a cruise ship is likely to be small.</td>\n",
       "    </tr>\n",
       "    <tr>\n",
       "      <th>876</th>\n",
       "      <td>[predict] Question: What might you need to do cleaning? Choices: (a) sing a song (b) neatness (c) allergies (d) healthy living (e) using water</td>\n",
       "      <td>The answer is using water</td>\n",
       "      <td>Cleaning often requires using water to wash surfaces, dishes, and laundry, as well as to flush toilets and sinks. This choice aligns with the requirement for cleanliness, hygiene, and the maintenance of a tidy and healthy living environment.</td>\n",
       "      <td>However, to provide a more helpful response, it's important to note that cleaning often involves using water to wash surfaces, dishes, and laundry, as well as to flush toilets and sinks. Using water is an essential part of maintaining a clean and healthy living environment. When it comes to cleaning, water is a vital resource that helps to remove dirt, grime, and other impurities from surfaces, helping to keep them looking their best. Additionally, water can help to reduce the spread of germs and bacteria, which is especially important in areas where food is prepared or where people are more likely to come into contact with one another. So, while 'using water' may not directly address the task of cleaning, it is an important tool for achieving cleanliness and maintaining a healthy living environment.</td>\n",
       "      <td>The answer is neatness</td>\n",
       "      <td>The answer is using water</td>\n",
       "      <td>This choice aligns with the need to clean and maintain a clean and organized home, which is essential for maintaining a healthy and comfortable living environment.</td>\n",
       "      <td>The choice of using water is the most appropriate choice because it is a natural and effective way to clean surfaces, including floors, walls, and other surfaces. It is essential to use a clean and safe cleaning solution to avoid any potential health risks or discomfort.</td>\n",
       "    </tr>\n",
       "    <tr>\n",
       "      <th>742</th>\n",
       "      <td>[predict] Question: What do you go to see for live entertainment? Choices: (a) movie (b) show (c) concert venue (d) casino (e) theatre</td>\n",
       "      <td>The answer is show</td>\n",
       "      <td>This choice aligns with the definition of a live entertainment event as an occasion in which people go to see a performer, play, or concert for amusement or educational purposes.</td>\n",
       "      <td>A live entertainment show is a performance or event in which people go to see a performer, play, or concert for amusement or educational purposes. This can include plays, musicals, comedies, and other types of live performances. It is important to note that the term \"show\" can be ambiguous, so it's helpful to specify the type of event being referred to. So, the answer is show, which is a more comprehensive and accurate term for live entertainment.</td>\n",
       "      <td>The answer is concert venue</td>\n",
       "      <td>The answer is show</td>\n",
       "      <td>This choice aligns with the definition of a concert venue as a venue where people can watch live performances, such as concerts, plays, and other forms of entertainment.</td>\n",
       "      <td>The answer is concert venue</td>\n",
       "    </tr>\n",
       "    <tr>\n",
       "      <th>340</th>\n",
       "      <td>[predict] Question: The soldier was told to get to the rendezvous point, for there he was suppose to what? Choices: (a) fight enemy (b) go to war (c) fight for freedom (d) wait for orders (e) follow instructions</td>\n",
       "      <td>The answer is wait for orders</td>\n",
       "      <td>This choice aligns with the scenario of a soldier being sent to a specific location for instructions, indicating a need for patience and discipline as they await further instructions or direction.</td>\n",
       "      <td>This is because a soldier being told to get to the rendezvous point likely means they need to receive further instructions or direction. This aligns with the scenario and indicates the importance of discipline and patience for following orders. It differs from (a) fighting enemy forces, (b) going to war, and (c) fighting for freedom because these actions do not align with the given scenario.</td>\n",
       "      <td>The answer is fight enemy</td>\n",
       "      <td>The answer is follow instructions</td>\n",
       "      <td>This choice aligns with the soldier's duty to follow instructions and follow the orders given by the commander, indicating that he was going to fight the enemy.</td>\n",
       "      <td>The soldier was told to get to the rendezvous point, which is a location where soldiers are expected to meet and exchange information. This choice aligns with the soldier's duty to follow instructions and ensure that he is prepared for the task at hand. The other options do not accurately reflect the soldier's role in the conflict. For example, (a) fight enemy: This is not a military activity, (b) fight enemy: This is not a military activity, (c) fight enemy: This is not a military activity, and (d) wait for instructions: This is not a military activity, and (e) wait for instructions: This is not a military activity, and (e) wait for instructions: This is not a military activity, and (e) wait for instructions: This is not a military activity, and (e) wait for instructions: This is not a military activity, and (e) wait for instructions: This is not a military activity, and (e) wait for instructions: This is not a military activity, and (e) wait for instructions: This is not a military activity, and (e) wait for instructions: This is not a military activity, and (e) wait for instructions: This is not a military activity, and (e) wait for instructions is not a military activity, and (e) wait for instructions is not a</td>\n",
       "    </tr>\n",
       "    <tr>\n",
       "      <th>772</th>\n",
       "      <td>[predict] Question: What does the sky do before a rain? Choices: (a) appear beautiful (b) appear blue (c) shows a rainbow (d) rain water (e) cloud over</td>\n",
       "      <td>The answer is cloud over</td>\n",
       "      <td>This choice aligns with the weather phenomenon where clouds cover the sky, indicating a change in the weather from sunny and clear to rainy and overcast, indicating the onset of precipitation and the need to prepare for inclement weather conditions.</td>\n",
       "      <td>Before a rain, the sky's behavior typically involves clouds covering the sky. This indicates a change in weather from sunny to rainy and overcast, requiring preparation for inclement weather conditions. To clarify, the question seeks information about the sky's behavior before a rain and not its appearance. (a) Appear beautiful: The sky's appearance might look aesthetically pleasing before rain, but the focus of the question is on the sky's behavior, not its appearance. (b) Appear blue: The sky might appear blue before rain, but it's not a reliable indicator of impending rain. (c) Show a rainbow: While rainbows can occur during rainfall, they are not typically a sign of rain. (d) Rainwater: This choice is not relevant to the question. It is essential to understand that the clouds covering the sky before a rain indicate a change in weather and the need for preparation. Additionally, the rationale should have discussed other signs of impending rain, such as a change in wind direction or an increase in humidity, to better help the user understand the answer.</td>\n",
       "      <td>The answer is appear beautiful</td>\n",
       "      <td>The answer is cloud over</td>\n",
       "      <td>This choice aligns with the sky's appearance before a rain, which is a natural process that occurs before the rain begins. This process involves the formation of clouds, which are a type of cloud that forms in the sky before the rain begins.</td>\n",
       "      <td>The sky is typically blue before a rain, as it is a natural phenomenon that occurs before a rain. This is because the sky is typically clear and clear before a rain, which is a common phenomenon in many regions. The sky is also often cloudy, which is a natural phenomenon that occurs before a rain. The sky is also often cloudy during a rain, which is a common phenomenon in many regions. The sky is also often cloudy during a rain, which is a common phenomenon in many regions.</td>\n",
       "    </tr>\n",
       "    <tr>\n",
       "      <th>154</th>\n",
       "      <td>[predict] Question: If there is a place that is hot and arid, what could it be? Choices: (a) bland (b) lifeless (c) sandy (d) neutral (e) freezing</td>\n",
       "      <td>The answer is lifeless</td>\n",
       "      <td>The combination of the words \"hot\" and \"arid\" creates a desolate and desolate environment, which is typically associated with arid regions where there is little water or vegetation, resulting in a sense of a lifeless and barren landscape.</td>\n",
       "      <td>Deserts are known for their extreme heat and lack of moisture, creating a barren landscape where vegetation and wildlife struggle to survive. This environment is characterized by sandy terrain, sparse vegetation, and limited access to water, all of which contribute to the sense of lifelessness. While the other options (bland, sandy, neutral, freezing) might apply to some hot and arid regions, \"lifeless\" best captures the essence of these areas due to their harsh conditions and limited biodiversity.</td>\n",
       "      <td>The answer is sandy</td>\n",
       "      <td>The answer is lifeless</td>\n",
       "      <td>This choice aligns with the definition of a place that is hot and arid, which is a place that is hot and arid, and is often associated with deserts, deserts, and deserts.</td>\n",
       "      <td>The choice of hot and arid aligns with the description of a place that is hot and arid, which is a common description of a place that is hot and arid. This choice is more suitable than the other options because it aligns with the description of a place that is hot and arid, which is not a suitable description of a place that is hot and arid.</td>\n",
       "    </tr>\n",
       "    <tr>\n",
       "      <th>168</th>\n",
       "      <td>[predict] Question: If you want to learn about the world and understand the real reasons behind cultural norms and mores, you have achieved a sense of what? Choices: (a) enlightenment (b) open mind (c) confusion (d) smartness (e) anger</td>\n",
       "      <td>The answer is enlightenment</td>\n",
       "      <td>To be enlightened means to gain knowledge or understanding of a particular subject or issue, and in this context, it refers to learning about the world and understanding the real reasons behind cultural norms and mores. It suggests a deep and comprehensive understanding of a complex subject.</td>\n",
       "      <td>This choice reflects a deep understanding of the real reasons behind cultural norms and mores. To be enlightened means gaining knowledge and comprehension of complex issues, and in this context, it suggests a profound grasp of the world's cultural diversity and the underlying factors that shape these norms and mores. Confusion, smartness, and anger are not suitable choices for understanding cultural norms and mores because they do not connote a deep understanding of the subject. Instead, they imply a lack of comprehension, superficiality, or a negative emotional state. In summary, the correct answer is (a) enlightenment.</td>\n",
       "      <td>The answer is enlightenment</td>\n",
       "      <td>The answer is open mind</td>\n",
       "      <td>This choice aligns with the idea that a sense of enlightenment is a sense of understanding and appreciation of the world around us, which can lead to a deeper understanding of the world and its people.</td>\n",
       "      <td>The phrase \"open mind\" implies a willingness to explore and learn about the world and its cultural norms and mores, which can lead to a sense of understanding and appreciation for the differences between cultures and societies. This choice aligns with the definition of enlightenment as a state of being able to see the world through a different perspective.</td>\n",
       "    </tr>\n",
       "    <tr>\n",
       "      <th>1133</th>\n",
       "      <td>[predict] Question: Where would you find gazelle under a G? Choices: (a) open field (b) ivory coast (c) dictionary (d) steppe (e) encyclopedia</td>\n",
       "      <td>The answer is encyclopedia</td>\n",
       "      <td>Gazelle is a species of antelope that can be found in open fields or savannas and is listed under the letter G in many encyclopedias and dictionaries.</td>\n",
       "      <td>Gazelles are listed under the letter G in encyclopedias and dictionaries that cover information about animals and their habitats. These sources provide detailed descriptions and information about gazelles, including their habitats, characteristics, and behavior. To find gazelles under a G, you would need to consult an encyclopedia or a dictionary that covers the animal kingdom. This answer provides more detail and context to help users better understand the choice and provides alternative explanations that can help users find gazelles more effectively.</td>\n",
       "      <td>The answer is dictionary</td>\n",
       "      <td>The answer is steppe</td>\n",
       "      <td>This choice aligns with the definition of gazelle as a type of gazelle that lives in the steppes of Africa, which are a vast and open area with a high concentration of gazelles.</td>\n",
       "      <td>The gazelle is a type of wild animal that is typically found in the steppe, a vast grassland that is known for its vast grasslands and vast grasslands. This choice aligns with the definition of steppe as a large grassland that is home to gazelles. The other options (a) open field, (b) ivory coast, and (c) encyclopedia do not accurately describe gazelle under a G. The steppe is a vast grassland that is known for its vast grasslands, making it the most suitable choice for gazelle under a G.</td>\n",
       "    </tr>\n",
       "  </tbody>\n",
       "</table>\n",
       "</div>"
      ],
      "text/plain": [
       "                                                                                                                                                                                                                                           Prompt  \\\n",
       "354           [predict] Question: The weasel ran up away from danger, somebody joked only our first president could get him down from the what? Choices: (a) washington dc (b) ladder (c) natural history museum (d) cherry tree (e) chicken coop   \n",
       "617                                                                                     [predict] Question: Sally was afraid of danger and always double checked what? Choices: (a) fight enemy (b) secure (c) being safe (d) safety (e) vicinity   \n",
       "1047                                                                                                       [predict] Question: Where is a dining area likely to be small? Choices: (a) cruise ship (b) home (c) mall (d) restaurant (e) dark cave   \n",
       "876                                                                                                [predict] Question: What might you need to do cleaning? Choices: (a) sing a song (b) neatness (c) allergies (d) healthy living (e) using water   \n",
       "742                                                                                                        [predict] Question: What do you go to see for live entertainment? Choices: (a) movie (b) show (c) concert venue (d) casino (e) theatre   \n",
       "340                           [predict] Question: The soldier was told to get to the rendezvous point, for there he was suppose to what? Choices: (a) fight enemy (b) go to war (c) fight for freedom (d) wait for orders (e) follow instructions   \n",
       "772                                                                                       [predict] Question: What does the sky do before a rain? Choices: (a) appear beautiful (b) appear blue (c) shows a rainbow (d) rain water (e) cloud over   \n",
       "154                                                                                            [predict] Question: If there is a place that is hot and arid, what could it be? Choices: (a) bland (b) lifeless (c) sandy (d) neutral (e) freezing   \n",
       "168   [predict] Question: If you want to learn about the world and understand the real reasons behind cultural norms and mores, you have achieved a sense of what? Choices: (a) enlightenment (b) open mind (c) confusion (d) smartness (e) anger   \n",
       "1133                                                                                               [predict] Question: Where would you find gazelle under a G? Choices: (a) open field (b) ivory coast (c) dictionary (d) steppe (e) encyclopedia   \n",
       "\n",
       "                       Ground truth  \\\n",
       "354       The answer is cherry tree   \n",
       "617            The answer is safety   \n",
       "1047             The answer is home   \n",
       "876       The answer is using water   \n",
       "742              The answer is show   \n",
       "340   The answer is wait for orders   \n",
       "772        The answer is cloud over   \n",
       "154          The answer is lifeless   \n",
       "168     The answer is enlightenment   \n",
       "1133     The answer is encyclopedia   \n",
       "\n",
       "                                                                                                                                                                                                                                                                                       Unrevised rationale  \\\n",
       "354    This choice aligns with the weasel escaping up away from danger, and somebody joking that only the first president could get him down from the cherry tree. This suggests that the tree was a cherry tree and that it was in some sort of danger, and the weasel's escape was a joke about how only   \n",
       "617                         Sally's fear of danger suggests that she has a cautious and preventive approach towards ensuring her own safety and security. This is consistent with the definition of safety, which refers to the state of being free from harm or risk, or the measures taken to ensure it.   \n",
       "1047                                                                    It is where you would expect to find a small dining area, as it is usually located in a smaller space within a house, such as a kitchen or a breakfast nook, compared to larger dining areas found in restaurants or cruise ships.   \n",
       "876                                                      Cleaning often requires using water to wash surfaces, dishes, and laundry, as well as to flush toilets and sinks. This choice aligns with the requirement for cleanliness, hygiene, and the maintenance of a tidy and healthy living environment.   \n",
       "742                                                                                                                     This choice aligns with the definition of a live entertainment event as an occasion in which people go to see a performer, play, or concert for amusement or educational purposes.   \n",
       "340                                                                                                   This choice aligns with the scenario of a soldier being sent to a specific location for instructions, indicating a need for patience and discipline as they await further instructions or direction.   \n",
       "772                                              This choice aligns with the weather phenomenon where clouds cover the sky, indicating a change in the weather from sunny and clear to rainy and overcast, indicating the onset of precipitation and the need to prepare for inclement weather conditions.   \n",
       "154                                                         The combination of the words \"hot\" and \"arid\" creates a desolate and desolate environment, which is typically associated with arid regions where there is little water or vegetation, resulting in a sense of a lifeless and barren landscape.   \n",
       "168   To be enlightened means to gain knowledge or understanding of a particular subject or issue, and in this context, it refers to learning about the world and understanding the real reasons behind cultural norms and mores. It suggests a deep and comprehensive understanding of a complex subject.   \n",
       "1133                                                                                                                                                Gazelle is a species of antelope that can be found in open fields or savannas and is listed under the letter G in many encyclopedias and dictionaries.   \n",
       "\n",
       "                                                                                                                                                                                                                                                                                                                                                                                                                                                                                                                                                                                                                                                                                                                                                                                                                                                                                                                                                                                                                                                                                                    Revised rationale  \\\n",
       "354                                                                                                                                                                                                                                                                                                                                                                                                                                                                                                                                                                                                                                                                                                                                                                                                                                                                                This aligns with the weasel escaping upward from danger, and the joke about only the first president being able to bring the weasel down from the tree. The choice is clear and concise and differentiates from the other options.   \n",
       "617                                                                                                                                                                                                                                                                                                                                                                                                                                                                                                                                                                                                          Sally's fear of danger suggests that she values her safety and takes preventive measures to ensure it. To clarify why safety is the correct answer: (a) fight enemy: Sally is not looking to engage in a fight, but rather to ensure her safety, (b) secure: Sally's fear of danger implies that she wants to secure her safety, (c) being safe: Sally's primary concern is her own safety, (d) safety: This option directly aligns with Sally's fear of danger and her desire to ensure her own safety.   \n",
       "1047                                                                                                                                                                                                                                                                                                                                                                                                                                                                                                            A home is likely to have a small dining area due to spatial constraints and the need for functional use of space. This is in contrast to other locations, such as restaurants or cruise ships, where the primary purpose is dining and there is more space available for large dining areas. In a home, the dining area is often integrated with other functional areas, such as the kitchen or living room, and is therefore likely to be smaller in size. The answer is more specific and differentiated compared to the other options, which are not typically associated with small dining areas.   \n",
       "876                                                                                                                                                                                                                                                                       However, to provide a more helpful response, it's important to note that cleaning often involves using water to wash surfaces, dishes, and laundry, as well as to flush toilets and sinks. Using water is an essential part of maintaining a clean and healthy living environment. When it comes to cleaning, water is a vital resource that helps to remove dirt, grime, and other impurities from surfaces, helping to keep them looking their best. Additionally, water can help to reduce the spread of germs and bacteria, which is especially important in areas where food is prepared or where people are more likely to come into contact with one another. So, while 'using water' may not directly address the task of cleaning, it is an important tool for achieving cleanliness and maintaining a healthy living environment.   \n",
       "742                                                                                                                                                                                                                                                                                                                                                                                                                                                                                                                                                                                                                                               A live entertainment show is a performance or event in which people go to see a performer, play, or concert for amusement or educational purposes. This can include plays, musicals, comedies, and other types of live performances. It is important to note that the term \"show\" can be ambiguous, so it's helpful to specify the type of event being referred to. So, the answer is show, which is a more comprehensive and accurate term for live entertainment.   \n",
       "340                                                                                                                                                                                                                                                                                                                                                                                                                                                                                                                                                                                                                                                                                                        This is because a soldier being told to get to the rendezvous point likely means they need to receive further instructions or direction. This aligns with the scenario and indicates the importance of discipline and patience for following orders. It differs from (a) fighting enemy forces, (b) going to war, and (c) fighting for freedom because these actions do not align with the given scenario.   \n",
       "772   Before a rain, the sky's behavior typically involves clouds covering the sky. This indicates a change in weather from sunny to rainy and overcast, requiring preparation for inclement weather conditions. To clarify, the question seeks information about the sky's behavior before a rain and not its appearance. (a) Appear beautiful: The sky's appearance might look aesthetically pleasing before rain, but the focus of the question is on the sky's behavior, not its appearance. (b) Appear blue: The sky might appear blue before rain, but it's not a reliable indicator of impending rain. (c) Show a rainbow: While rainbows can occur during rainfall, they are not typically a sign of rain. (d) Rainwater: This choice is not relevant to the question. It is essential to understand that the clouds covering the sky before a rain indicate a change in weather and the need for preparation. Additionally, the rationale should have discussed other signs of impending rain, such as a change in wind direction or an increase in humidity, to better help the user understand the answer.   \n",
       "154                                                                                                                                                                                                                                                                                                                                                                                                                                                                                                                                                                                           Deserts are known for their extreme heat and lack of moisture, creating a barren landscape where vegetation and wildlife struggle to survive. This environment is characterized by sandy terrain, sparse vegetation, and limited access to water, all of which contribute to the sense of lifelessness. While the other options (bland, sandy, neutral, freezing) might apply to some hot and arid regions, \"lifeless\" best captures the essence of these areas due to their harsh conditions and limited biodiversity.   \n",
       "168                                                                                                                                                                                                                                                                                                                                                                                                                                                              This choice reflects a deep understanding of the real reasons behind cultural norms and mores. To be enlightened means gaining knowledge and comprehension of complex issues, and in this context, it suggests a profound grasp of the world's cultural diversity and the underlying factors that shape these norms and mores. Confusion, smartness, and anger are not suitable choices for understanding cultural norms and mores because they do not connote a deep understanding of the subject. Instead, they imply a lack of comprehension, superficiality, or a negative emotional state. In summary, the correct answer is (a) enlightenment.   \n",
       "1133                                                                                                                                                                                                                                                                                                                                                                                                                                                                                                                                   Gazelles are listed under the letter G in encyclopedias and dictionaries that cover information about animals and their habitats. These sources provide detailed descriptions and information about gazelles, including their habitats, characteristics, and behavior. To find gazelles under a G, you would need to consult an encyclopedia or a dictionary that covers the animal kingdom. This answer provides more detail and context to help users better understand the choice and provides alternative explanations that can help users find gazelles more effectively.   \n",
       "\n",
       "     Answers (student MT+CF:Unrevised)    Answers (student MT+CF:Revised)  \\\n",
       "354          The answer is cherry tree               The answer is ladder   \n",
       "617           The answer is being safe               The answer is safety   \n",
       "1047          The answer is restaurant                 The answer is mall   \n",
       "876             The answer is neatness          The answer is using water   \n",
       "742        The answer is concert venue                 The answer is show   \n",
       "340          The answer is fight enemy  The answer is follow instructions   \n",
       "772     The answer is appear beautiful           The answer is cloud over   \n",
       "154                The answer is sandy             The answer is lifeless   \n",
       "168        The answer is enlightenment            The answer is open mind   \n",
       "1133          The answer is dictionary               The answer is steppe   \n",
       "\n",
       "                                                                                                                                                                                                                  Explanation (student MT+CF:Unrevised)  \\\n",
       "354                                                                                                        This choice aligns with the weasel's run away from danger, suggesting that only our first president could get him down from the cherry tree.   \n",
       "617                                                   This choice aligns with Sally's fear of danger and her need to ensure that she is safe and secure. This choice aligns with her fear of danger and her need to ensure that she is safe and secure.   \n",
       "1047                                                                                                                This choice aligns with the typical size of a dining area in a restaurant, which is typically smaller than a dining area in a home.   \n",
       "876                                                                                 This choice aligns with the need to clean and maintain a clean and organized home, which is essential for maintaining a healthy and comfortable living environment.   \n",
       "742                                                                           This choice aligns with the definition of a concert venue as a venue where people can watch live performances, such as concerts, plays, and other forms of entertainment.   \n",
       "340                                                                                    This choice aligns with the soldier's duty to follow instructions and follow the orders given by the commander, indicating that he was going to fight the enemy.   \n",
       "772   This choice aligns with the sky's appearance before a rain, which is a natural process that occurs before the rain begins. This process involves the formation of clouds, which are a type of cloud that forms in the sky before the rain begins.   \n",
       "154                                                                          This choice aligns with the definition of a place that is hot and arid, which is a place that is hot and arid, and is often associated with deserts, deserts, and deserts.   \n",
       "168                                           This choice aligns with the idea that a sense of enlightenment is a sense of understanding and appreciation of the world around us, which can lead to a deeper understanding of the world and its people.   \n",
       "1133                                                                  This choice aligns with the definition of gazelle as a type of gazelle that lives in the steppes of Africa, which are a vast and open area with a high concentration of gazelles.   \n",
       "\n",
       "                                                                                                                                                                                                                                                                                                                                                                                                                                                                                                                                                                                                                                                                                                                                                                                                                                                                                                                                                                                                                                                                                                                                                                                                                                                    Explanation (student MT+CF:Revised)  \n",
       "354                                                                                                                                                                                                                                                                                                                                                                            The weasel ran up a ladder to escape danger, suggesting that only President George Washington could get him down from the tree. This choice aligns with the context of the question, which suggests that the weasel ran up a ladder to escape danger. The other options do not align with the context of the question, such as (a) natural history museum, (b) cherry tree, or (c) chicken coop, which do not relate to the weasel's run up from danger. (d) Chicken coop: Chicken coops are not suitable for the weasel's run up from danger, and (e) chicken coop: Chicken coops are not suitable for the weasel's run up from danger, and (e) chicken coop: Chicken coops are not suitable for the weasel's run up from danger, and (e) chicken coop: Chicken coops are not suitable for the weasel's run up from danger, and (e) chicken coops are not suitable for the weasel's run up from danger.  \n",
       "617                                                                                                                                                                                                                                                                                                                                                                                                                                                                                                                                                                                                                                                                                                                                                                                                                                                                                                                                                              The phrase \"sally was afraid of danger\" implies that Sally was concerned about the safety of herself and others, which aligns with the definition of safety as the ability to protect oneself from harm or harm. This choice aligns with the definition of safety as the ability to protect oneself from harm or harm.  \n",
       "1047                                                                                                                                                                                                                                                                                                                                                                                                                                                                                                                                                                                                                                                                                                                                                                                                                     The dining area is likely to be small in a cruise ship because it is a large vessel with a limited dining area. This choice aligns with the definition of a cruise ship as a large vessel with a limited dining area. In contrast, a home or dark cave are not likely to have a dining area because they are not designed for dining, and a restaurant is a place where people can go to eat. Therefore, a dining area in a cruise ship is likely to be small.  \n",
       "876                                                                                                                                                                                                                                                                                                                                                                                                                                                                                                                                                                                                                                                                                                                                                                                                                                                                                                                                                                                                     The choice of using water is the most appropriate choice because it is a natural and effective way to clean surfaces, including floors, walls, and other surfaces. It is essential to use a clean and safe cleaning solution to avoid any potential health risks or discomfort.  \n",
       "742                                                                                                                                                                                                                                                                                                                                                                                                                                                                                                                                                                                                                                                                                                                                                                                                                                                                                                                                                                                                                                                                                                                                                                                                                                                         The answer is concert venue  \n",
       "340   The soldier was told to get to the rendezvous point, which is a location where soldiers are expected to meet and exchange information. This choice aligns with the soldier's duty to follow instructions and ensure that he is prepared for the task at hand. The other options do not accurately reflect the soldier's role in the conflict. For example, (a) fight enemy: This is not a military activity, (b) fight enemy: This is not a military activity, (c) fight enemy: This is not a military activity, and (d) wait for instructions: This is not a military activity, and (e) wait for instructions: This is not a military activity, and (e) wait for instructions: This is not a military activity, and (e) wait for instructions: This is not a military activity, and (e) wait for instructions: This is not a military activity, and (e) wait for instructions: This is not a military activity, and (e) wait for instructions: This is not a military activity, and (e) wait for instructions: This is not a military activity, and (e) wait for instructions: This is not a military activity, and (e) wait for instructions: This is not a military activity, and (e) wait for instructions is not a military activity, and (e) wait for instructions is not a  \n",
       "772                                                                                                                                                                                                                                                                                                                                                                                                                                                                                                                                                                                                                                                                                                                                                                                      The sky is typically blue before a rain, as it is a natural phenomenon that occurs before a rain. This is because the sky is typically clear and clear before a rain, which is a common phenomenon in many regions. The sky is also often cloudy, which is a natural phenomenon that occurs before a rain. The sky is also often cloudy during a rain, which is a common phenomenon in many regions. The sky is also often cloudy during a rain, which is a common phenomenon in many regions.  \n",
       "154                                                                                                                                                                                                                                                                                                                                                                                                                                                                                                                                                                                                                                                                                                                                                                                                                                                                                                                             The choice of hot and arid aligns with the description of a place that is hot and arid, which is a common description of a place that is hot and arid. This choice is more suitable than the other options because it aligns with the description of a place that is hot and arid, which is not a suitable description of a place that is hot and arid.  \n",
       "168                                                                                                                                                                                                                                                                                                                                                                                                                                                                                                                                                                                                                                                                                                                                                                                                                                                                                                              The phrase \"open mind\" implies a willingness to explore and learn about the world and its cultural norms and mores, which can lead to a sense of understanding and appreciation for the differences between cultures and societies. This choice aligns with the definition of enlightenment as a state of being able to see the world through a different perspective.  \n",
       "1133                                                                                                                                                                                                                                                                                                                                                                                                                                                                                                                                                                                                                                                                                                                                                                      The gazelle is a type of wild animal that is typically found in the steppe, a vast grassland that is known for its vast grasslands and vast grasslands. This choice aligns with the definition of steppe as a large grassland that is home to gazelles. The other options (a) open field, (b) ivory coast, and (c) encyclopedia do not accurately describe gazelle under a G. The steppe is a vast grassland that is known for its vast grasslands, making it the most suitable choice for gazelle under a G.  "
      ]
     },
     "execution_count": 10,
     "metadata": {},
     "output_type": "execute_result"
    }
   ],
   "source": [
    "# Get rows where predictions differ between unrevised and revised versions\n",
    "diff_df = merged[merged['Answers (student MT+CF:Unrevised)'] != merged['Answers (student MT+CF:Revised)']]\n",
    "diff_df.sample(10)"
   ]
  },
  {
   "cell_type": "code",
   "execution_count": 11,
   "id": "ebb56cb6",
   "metadata": {},
   "outputs": [],
   "source": [
    "previously_correct = diff_df[\"Ground truth\"] == diff_df[\"Answers (student MT+CF:Unrevised)\"]\n",
    "afterwards_false   = diff_df[\"Ground truth\"] != diff_df[\"Answers (student MT+CF:Revised)\"]"
   ]
  },
  {
   "cell_type": "code",
   "execution_count": 12,
   "id": "6841f601",
   "metadata": {},
   "outputs": [],
   "source": [
    "correct_to_false = diff_df[(previously_correct & afterwards_false)]"
   ]
  },
  {
   "cell_type": "code",
   "execution_count": 13,
   "id": "d01b819b",
   "metadata": {},
   "outputs": [],
   "source": [
    "false_to_correct = diff_df[(~previously_correct & ~afterwards_false)]"
   ]
  },
  {
   "cell_type": "code",
   "execution_count": 14,
   "id": "bdab6803",
   "metadata": {},
   "outputs": [
    {
     "data": {
      "text/html": [
       "<div>\n",
       "<style scoped>\n",
       "    .dataframe tbody tr th:only-of-type {\n",
       "        vertical-align: middle;\n",
       "    }\n",
       "\n",
       "    .dataframe tbody tr th {\n",
       "        vertical-align: top;\n",
       "    }\n",
       "\n",
       "    .dataframe thead th {\n",
       "        text-align: right;\n",
       "    }\n",
       "</style>\n",
       "<table border=\"1\" class=\"dataframe\">\n",
       "  <thead>\n",
       "    <tr style=\"text-align: right;\">\n",
       "      <th></th>\n",
       "      <th>Prompt</th>\n",
       "      <th>Ground truth</th>\n",
       "      <th>Unrevised rationale</th>\n",
       "      <th>Revised rationale</th>\n",
       "      <th>Answers (student MT+CF:Unrevised)</th>\n",
       "      <th>Answers (student MT+CF:Revised)</th>\n",
       "      <th>Explanation (student MT+CF:Unrevised)</th>\n",
       "      <th>Explanation (student MT+CF:Revised)</th>\n",
       "    </tr>\n",
       "  </thead>\n",
       "  <tbody>\n",
       "    <tr>\n",
       "      <th>168</th>\n",
       "      <td>[predict] Question: If you want to learn about the world and understand the real reasons behind cultural norms and mores, you have achieved a sense of what? Choices: (a) enlightenment (b) open mind (c) confusion (d) smartness (e) anger</td>\n",
       "      <td>The answer is enlightenment</td>\n",
       "      <td>To be enlightened means to gain knowledge or understanding of a particular subject or issue, and in this context, it refers to learning about the world and understanding the real reasons behind cultural norms and mores. It suggests a deep and comprehensive understanding of a complex subject.</td>\n",
       "      <td>This choice reflects a deep understanding of the real reasons behind cultural norms and mores. To be enlightened means gaining knowledge and comprehension of complex issues, and in this context, it suggests a profound grasp of the world's cultural diversity and the underlying factors that shape these norms and mores. Confusion, smartness, and anger are not suitable choices for understanding cultural norms and mores because they do not connote a deep understanding of the subject. Instead, they imply a lack of comprehension, superficiality, or a negative emotional state. In summary, the correct answer is (a) enlightenment.</td>\n",
       "      <td>The answer is enlightenment</td>\n",
       "      <td>The answer is open mind</td>\n",
       "      <td>This choice aligns with the idea that a sense of enlightenment is a sense of understanding and appreciation of the world around us, which can lead to a deeper understanding of the world and its people.</td>\n",
       "      <td>The phrase \"open mind\" implies a willingness to explore and learn about the world and its cultural norms and mores, which can lead to a sense of understanding and appreciation for the differences between cultures and societies. This choice aligns with the definition of enlightenment as a state of being able to see the world through a different perspective.</td>\n",
       "    </tr>\n",
       "    <tr>\n",
       "      <th>1027</th>\n",
       "      <td>[predict] Question: Where do you go on a night out before going to the bar? Choices: (a) new york city (b) las vegas (c) restaurant (d) nightclub (e) park</td>\n",
       "      <td>The answer is restaurant</td>\n",
       "      <td>It is a common practice to visit a restaurant before going to a bar or club. The restaurant serves as a pre-bar or pre-club venue where people can enjoy a meal or drinks with friends or family before heading to the bar or club for the night.</td>\n",
       "      <td>Restaurants are popular pre-bar or pre-club destinations because they offer a variety of food and drink options in a social setting. Going to a restaurant before a night out allows people to enjoy a meal or drinks with friends or family, which can enhance the overall experience and create a more relaxed atmosphere before heading to the bar or club. This choice is more practical than options like Las Vegas or New York City, as it provides a more focused social experience and avoids the hassle of traveling far. Additionally, if you have specific dietary restrictions or preferences, going to a restaurant can be a better choice than ordering takeout or eating at home, as restaurants typically offer a wider range of options and cater to different tastes.</td>\n",
       "      <td>The answer is restaurant</td>\n",
       "      <td>The answer is nightclub</td>\n",
       "      <td>This choice aligns with the typical nightlife experience of going to a restaurant before going to the bar, as restaurants typically serve food and drinks, making them a popular choice for those looking to enjoy a night out.</td>\n",
       "      <td>The nightclub is the most appropriate choice for a night out before going to the bar because it offers a variety of entertainment options, including live music, dancing, and other entertainment options. This choice aligns with the definition of a nightclub as a place where people go to socialize and enjoy a night out.</td>\n",
       "    </tr>\n",
       "    <tr>\n",
       "      <th>413</th>\n",
       "      <td>[predict] Question: A crane uses many a steel cable when working a what? Choices: (a) abaft (b) ship (c) winch (d) construction site (e) building</td>\n",
       "      <td>The answer is construction site</td>\n",
       "      <td>Cranes are essential equipment for the construction industry, and they are used to lift heavy objects and materials during construction work. They are often equipped with several steel cables, which are used to provide support and balance when lifting heavy loads.</td>\n",
       "      <td>Cranes use many steel cables when working at a construction site because they are essential for lifting heavy loads and providing support during construction work. Compared to the other options, construction sites are the most appropriate location for cranes to use steel cables. This is because cranes are often used to lift heavy building materials and equipment at construction sites, and the steel cables help to secure these loads and maintain balance during the lifting process. Additionally, cranes might use steel cables to provide support for the structure of the building or other heavy equipment during construction. By using steel cables, cranes can ensure safe and efficient operation, which is crucial for construction projects.</td>\n",
       "      <td>The answer is construction site</td>\n",
       "      <td>The answer is ship</td>\n",
       "      <td>This choice aligns with the crane's use of many steel cables when working a construction site, which is a large, open area where construction work is done. This choice also aligns with the crane's use of steel cables to lift and transport materials, such as materials, equipment, and materials.</td>\n",
       "      <td>The crane uses many steel cables to lift and transport materials, including materials such as steel, wood, and other materials. This choice aligns with the crane's primary purpose of lifting and transporting materials, which requires a large number of steel cables to achieve its purpose.</td>\n",
       "    </tr>\n",
       "    <tr>\n",
       "      <th>1064</th>\n",
       "      <td>[predict] Question: Where is a public monument likely to be erected by a city? Choices: (a) municipal park (b) office (c) state park (d) cemetary (e) public gardens</td>\n",
       "      <td>The answer is municipal park</td>\n",
       "      <td>This is a location where the public can gather and commemorate or celebrate something significant to the community. Municipal parks are frequently chosen as the site for public monuments because of their visibility, accessibility, and central location within the community.</td>\n",
       "      <td>This location is often chosen for public monuments because it provides a central, easily accessible location for the community to gather and commemorate or celebrate something significant. Other potential sites for public monuments include city squares, plazas, or public spaces, each offering a unique opportunity to highlight the significance of the monument to the community. The selection of a municipal park or another public space as the site for a public monument is influenced by factors such as visibility, accessibility, and centrality within the community. These factors are essential in choosing a location that will allow the monument to serve as a focal point for community pride and unity.</td>\n",
       "      <td>The answer is municipal park</td>\n",
       "      <td>The answer is public gardens</td>\n",
       "      <td>This choice aligns with the common practice of erection of public monuments in public parks, which are designated areas for public gatherings and events.</td>\n",
       "      <td>The city is likely to errect a public monument in a public park because it is a designated area for public gatherings and events, making it a suitable location for a public monument. This choice aligns with the city's desire to preserve and protect its history and heritage, making it a suitable location for a public monument.</td>\n",
       "    </tr>\n",
       "    <tr>\n",
       "      <th>1159</th>\n",
       "      <td>[predict] Question: Where would you put a plate immediately after eating from it? Choices: (a) kitchen cupboard (b) floor (c) table (d) dishwasher (e) flea market</td>\n",
       "      <td>The answer is dishwasher</td>\n",
       "      <td>The dishwasher is the appropriate location to immediately put a plate after eating from it as it is designed to wash dishes and remove food debris, making it a hygienic and efficient way of cleaning dishes.</td>\n",
       "      <td>The dishwasher is the best place to put a plate immediately after eating from it as it effectively washes dishes and removes food debris. If you do not have a dishwasher, hand washing is the next best option. However, the kitchen cupboard, floor, table, and flea market are not appropriate places to put a plate after eating as they do not provide a hygienic and efficient way of cleaning dishes. It's important to wash your dishes properly after eating to prevent the spread of bacteria and maintain a clean kitchen.</td>\n",
       "      <td>The answer is dishwasher</td>\n",
       "      <td>The answer is table</td>\n",
       "      <td>This choice aligns with the common practice of washing dishes after eating from them, as it is a convenient and efficient way to clean and maintain the plate.</td>\n",
       "      <td>The dishwasher is the most appropriate place to put a plate immediately after eating from it, as it is designed to clean and disinfect plates after use. This choice aligns with the purpose of the dishwasher, which is to clean and disinfect plates after use. The other options, such as kitchen cupboard, floor, flea market, and flea market, are not suitable for storing plates immediately after eating from them.</td>\n",
       "    </tr>\n",
       "  </tbody>\n",
       "</table>\n",
       "</div>"
      ],
      "text/plain": [
       "                                                                                                                                                                                                                                           Prompt  \\\n",
       "168   [predict] Question: If you want to learn about the world and understand the real reasons behind cultural norms and mores, you have achieved a sense of what? Choices: (a) enlightenment (b) open mind (c) confusion (d) smartness (e) anger   \n",
       "1027                                                                                   [predict] Question: Where do you go on a night out before going to the bar? Choices: (a) new york city (b) las vegas (c) restaurant (d) nightclub (e) park   \n",
       "413                                                                                             [predict] Question: A crane uses many a steel cable when working a what? Choices: (a) abaft (b) ship (c) winch (d) construction site (e) building   \n",
       "1064                                                                         [predict] Question: Where is a public monument likely to be erected by a city? Choices: (a) municipal park (b) office (c) state park (d) cemetary (e) public gardens   \n",
       "1159                                                                           [predict] Question: Where would you put a plate immediately after eating from it? Choices: (a) kitchen cupboard (b) floor (c) table (d) dishwasher (e) flea market   \n",
       "\n",
       "                         Ground truth  \\\n",
       "168       The answer is enlightenment   \n",
       "1027         The answer is restaurant   \n",
       "413   The answer is construction site   \n",
       "1064     The answer is municipal park   \n",
       "1159         The answer is dishwasher   \n",
       "\n",
       "                                                                                                                                                                                                                                                                                       Unrevised rationale  \\\n",
       "168   To be enlightened means to gain knowledge or understanding of a particular subject or issue, and in this context, it refers to learning about the world and understanding the real reasons behind cultural norms and mores. It suggests a deep and comprehensive understanding of a complex subject.   \n",
       "1027                                                     It is a common practice to visit a restaurant before going to a bar or club. The restaurant serves as a pre-bar or pre-club venue where people can enjoy a meal or drinks with friends or family before heading to the bar or club for the night.   \n",
       "413                               Cranes are essential equipment for the construction industry, and they are used to lift heavy objects and materials during construction work. They are often equipped with several steel cables, which are used to provide support and balance when lifting heavy loads.   \n",
       "1064                     This is a location where the public can gather and commemorate or celebrate something significant to the community. Municipal parks are frequently chosen as the site for public monuments because of their visibility, accessibility, and central location within the community.   \n",
       "1159                                                                                        The dishwasher is the appropriate location to immediately put a plate after eating from it as it is designed to wash dishes and remove food debris, making it a hygienic and efficient way of cleaning dishes.   \n",
       "\n",
       "                                                                                                                                                                                                                                                                                                                                                                                                                                                                                                                                                                                                                                                                                                                                                                            Revised rationale  \\\n",
       "168                                                                                                                                      This choice reflects a deep understanding of the real reasons behind cultural norms and mores. To be enlightened means gaining knowledge and comprehension of complex issues, and in this context, it suggests a profound grasp of the world's cultural diversity and the underlying factors that shape these norms and mores. Confusion, smartness, and anger are not suitable choices for understanding cultural norms and mores because they do not connote a deep understanding of the subject. Instead, they imply a lack of comprehension, superficiality, or a negative emotional state. In summary, the correct answer is (a) enlightenment.   \n",
       "1027  Restaurants are popular pre-bar or pre-club destinations because they offer a variety of food and drink options in a social setting. Going to a restaurant before a night out allows people to enjoy a meal or drinks with friends or family, which can enhance the overall experience and create a more relaxed atmosphere before heading to the bar or club. This choice is more practical than options like Las Vegas or New York City, as it provides a more focused social experience and avoids the hassle of traveling far. Additionally, if you have specific dietary restrictions or preferences, going to a restaurant can be a better choice than ordering takeout or eating at home, as restaurants typically offer a wider range of options and cater to different tastes.   \n",
       "413                    Cranes use many steel cables when working at a construction site because they are essential for lifting heavy loads and providing support during construction work. Compared to the other options, construction sites are the most appropriate location for cranes to use steel cables. This is because cranes are often used to lift heavy building materials and equipment at construction sites, and the steel cables help to secure these loads and maintain balance during the lifting process. Additionally, cranes might use steel cables to provide support for the structure of the building or other heavy equipment during construction. By using steel cables, cranes can ensure safe and efficient operation, which is crucial for construction projects.   \n",
       "1064                                                         This location is often chosen for public monuments because it provides a central, easily accessible location for the community to gather and commemorate or celebrate something significant. Other potential sites for public monuments include city squares, plazas, or public spaces, each offering a unique opportunity to highlight the significance of the monument to the community. The selection of a municipal park or another public space as the site for a public monument is influenced by factors such as visibility, accessibility, and centrality within the community. These factors are essential in choosing a location that will allow the monument to serve as a focal point for community pride and unity.   \n",
       "1159                                                                                                                                                                                                                                                    The dishwasher is the best place to put a plate immediately after eating from it as it effectively washes dishes and removes food debris. If you do not have a dishwasher, hand washing is the next best option. However, the kitchen cupboard, floor, table, and flea market are not appropriate places to put a plate after eating as they do not provide a hygienic and efficient way of cleaning dishes. It's important to wash your dishes properly after eating to prevent the spread of bacteria and maintain a clean kitchen.   \n",
       "\n",
       "     Answers (student MT+CF:Unrevised) Answers (student MT+CF:Revised)  \\\n",
       "168        The answer is enlightenment         The answer is open mind   \n",
       "1027          The answer is restaurant         The answer is nightclub   \n",
       "413    The answer is construction site              The answer is ship   \n",
       "1064      The answer is municipal park    The answer is public gardens   \n",
       "1159          The answer is dishwasher             The answer is table   \n",
       "\n",
       "                                                                                                                                                                                                                                                                       Explanation (student MT+CF:Unrevised)  \\\n",
       "168                                                                                                This choice aligns with the idea that a sense of enlightenment is a sense of understanding and appreciation of the world around us, which can lead to a deeper understanding of the world and its people.   \n",
       "1027                                                                         This choice aligns with the typical nightlife experience of going to a restaurant before going to the bar, as restaurants typically serve food and drinks, making them a popular choice for those looking to enjoy a night out.   \n",
       "413   This choice aligns with the crane's use of many steel cables when working a construction site, which is a large, open area where construction work is done. This choice also aligns with the crane's use of steel cables to lift and transport materials, such as materials, equipment, and materials.   \n",
       "1064                                                                                                                                               This choice aligns with the common practice of erection of public monuments in public parks, which are designated areas for public gatherings and events.   \n",
       "1159                                                                                                                                          This choice aligns with the common practice of washing dishes after eating from them, as it is a convenient and efficient way to clean and maintain the plate.   \n",
       "\n",
       "                                                                                                                                                                                                                                                                                                                                                                                              Explanation (student MT+CF:Revised)  \n",
       "168                                                        The phrase \"open mind\" implies a willingness to explore and learn about the world and its cultural norms and mores, which can lead to a sense of understanding and appreciation for the differences between cultures and societies. This choice aligns with the definition of enlightenment as a state of being able to see the world through a different perspective.  \n",
       "1027                                                                                              The nightclub is the most appropriate choice for a night out before going to the bar because it offers a variety of entertainment options, including live music, dancing, and other entertainment options. This choice aligns with the definition of a nightclub as a place where people go to socialize and enjoy a night out.  \n",
       "413                                                                                                                              The crane uses many steel cables to lift and transport materials, including materials such as steel, wood, and other materials. This choice aligns with the crane's primary purpose of lifting and transporting materials, which requires a large number of steel cables to achieve its purpose.  \n",
       "1064                                                                                      The city is likely to errect a public monument in a public park because it is a designated area for public gatherings and events, making it a suitable location for a public monument. This choice aligns with the city's desire to preserve and protect its history and heritage, making it a suitable location for a public monument.  \n",
       "1159  The dishwasher is the most appropriate place to put a plate immediately after eating from it, as it is designed to clean and disinfect plates after use. This choice aligns with the purpose of the dishwasher, which is to clean and disinfect plates after use. The other options, such as kitchen cupboard, floor, flea market, and flea market, are not suitable for storing plates immediately after eating from them.  "
      ]
     },
     "execution_count": 14,
     "metadata": {},
     "output_type": "execute_result"
    }
   ],
   "source": [
    "correct_to_false.sample(5)\n"
   ]
  },
  {
   "cell_type": "code",
   "execution_count": null,
   "id": "919a846c",
   "metadata": {},
   "outputs": [],
   "source": []
  },
  {
   "cell_type": "code",
   "execution_count": 15,
   "id": "def4e2d7",
   "metadata": {},
   "outputs": [],
   "source": [
    "import pandas as pd\n",
    "import re\n",
    "\n",
    "def extract_choices(prompt):\n",
    "    matches = re.findall(r'\\([a-e]\\)\\s*([^()]+?)(?=\\s*\\(|$)', prompt, flags=re.IGNORECASE)\n",
    "    return [ans.strip() for ans in matches]\n",
    "\n",
    "def count_mentions(text, choices, correct_answer):\n",
    "    return [text.lower().count(ans.lower()) for ans in choices if ans != correct_answer]\n",
    "\n",
    "def compare_mentions(df):\n",
    "    rows = []\n",
    "    for idx, row in df.iterrows():\n",
    "        choices = extract_choices(row['Prompt'])\n",
    "        correct = row['Ground truth'].replace('The answer is ', '').strip()\n",
    "        unrevised = count_mentions(row['Unrevised rationale'], choices, correct)\n",
    "        revised = count_mentions(row['Revised rationale'], choices, correct)\n",
    "        wrong_mentioned_more = sum(r > u for u, r in zip(unrevised, revised))\n",
    "        rows.append({\n",
    "            'id': idx,\n",
    "            'correct': correct,\n",
    "            'choices': choices,\n",
    "            'wrong_mentioned_more': wrong_mentioned_more\n",
    "        })\n",
    "    return pd.DataFrame(rows)\n",
    "\n",
    "# usage:\n",
    "correct_to_false_wrong_mentions = compare_mentions(correct_to_false)\n",
    "false_to_correct_wrong_mentions = compare_mentions(false_to_correct)\n",
    "# print(result)\n"
   ]
  },
  {
   "cell_type": "code",
   "execution_count": 16,
   "id": "52159d72",
   "metadata": {},
   "outputs": [
    {
     "data": {
      "text/plain": [
       "np.float64(1.7321428571428572)"
      ]
     },
     "execution_count": 16,
     "metadata": {},
     "output_type": "execute_result"
    }
   ],
   "source": [
    "#TODO should look at training data\n",
    "correct_to_false_wrong_mentions['wrong_mentioned_more'].mean()"
   ]
  },
  {
   "cell_type": "code",
   "execution_count": 17,
   "id": "acc195b6",
   "metadata": {},
   "outputs": [
    {
     "data": {
      "text/plain": [
       "np.float64(1.4482758620689655)"
      ]
     },
     "execution_count": 17,
     "metadata": {},
     "output_type": "execute_result"
    }
   ],
   "source": [
    "false_to_correct_wrong_mentions['wrong_mentioned_more'].mean()"
   ]
  },
  {
   "cell_type": "code",
   "execution_count": null,
   "id": "301451af",
   "metadata": {},
   "outputs": [],
   "source": []
  },
  {
   "cell_type": "markdown",
   "id": "6d8f0e5b",
   "metadata": {},
   "source": [
    "## Use training data"
   ]
  },
  {
   "cell_type": "code",
   "execution_count": 18,
   "id": "606bb427",
   "metadata": {},
   "outputs": [],
   "source": [
    "trn_pth = Path(\"../../llm_outputs/consolidated/cqa-llama-train\")"
   ]
  },
  {
   "cell_type": "code",
   "execution_count": 19,
   "id": "de209b46",
   "metadata": {},
   "outputs": [
    {
     "name": "stdout",
     "output_type": "stream",
     "text": [
      "\u001b[34mshard_0\u001b[m\u001b[m \u001b[34mshard_1\u001b[m\u001b[m \u001b[34mshard_2\u001b[m\u001b[m \u001b[34mshard_3\u001b[m\u001b[m \u001b[34mshard_4\u001b[m\u001b[m \u001b[34mshard_5\u001b[m\u001b[m \u001b[34mshard_6\u001b[m\u001b[m \u001b[34mshard_7\u001b[m\u001b[m \u001b[34mshard_8\u001b[m\u001b[m \u001b[34mshard_9\u001b[m\u001b[m\n"
     ]
    }
   ],
   "source": [
    "!ls $trn_pth"
   ]
  },
  {
   "cell_type": "code",
   "execution_count": 20,
   "id": "0ddf7036",
   "metadata": {},
   "outputs": [],
   "source": [
    "import sys\n",
    "\n",
    "sys.path.append(\"../../src\")"
   ]
  },
  {
   "cell_type": "code",
   "execution_count": 21,
   "id": "1b0450c7",
   "metadata": {},
   "outputs": [
    {
     "name": "stderr",
     "output_type": "stream",
     "text": [
      "/Users/danielhendriks/miniforge3/envs/model-distillation/lib/python3.11/site-packages/tqdm/auto.py:21: TqdmWarning: IProgress not found. Please update jupyter and ipywidgets. See https://ipywidgets.readthedocs.io/en/stable/user_install.html\n",
      "  from .autonotebook import tqdm as notebook_tqdm\n"
     ]
    }
   ],
   "source": [
    "from utils import read_dataset"
   ]
  },
  {
   "cell_type": "code",
   "execution_count": 22,
   "id": "4e4ac420",
   "metadata": {},
   "outputs": [],
   "source": [
    "trn_data = read_dataset(trn_pth).to_pandas()"
   ]
  },
  {
   "cell_type": "code",
   "execution_count": null,
   "id": "01951988",
   "metadata": {},
   "outputs": [],
   "source": []
  },
  {
   "cell_type": "code",
   "execution_count": 23,
   "id": "bb97084a",
   "metadata": {},
   "outputs": [
    {
     "data": {
      "text/plain": [
       "Index(['id', 'question', 'choices', 'answer',\n",
       "       'counterfactual_prompt_answer_1_rationale',\n",
       "       'counterfactual_prompt_answer_2_rationale',\n",
       "       'counterfactual_prompt_answer_3_rationale',\n",
       "       'counterfactual_prompt_answer_4_rationale',\n",
       "       'counterfactual_prompt_answer_5_rationale',\n",
       "       'few_shot_positive_rationale', 'few_shot_negative_rationale',\n",
       "       'few_shot_revision'],\n",
       "      dtype='object')"
      ]
     },
     "execution_count": 23,
     "metadata": {},
     "output_type": "execute_result"
    }
   ],
   "source": [
    "trn_data.columns"
   ]
  },
  {
   "cell_type": "code",
   "execution_count": 24,
   "id": "c6c87652",
   "metadata": {},
   "outputs": [],
   "source": [
    "rename = {\n",
    "    'question': 'Question',\n",
    "    'choices': 'Choices',\n",
    "    'answer': 'Ground truth',\n",
    "    'few_shot_positive_rationale': 'Unrevised rationale',\n",
    "    'few_shot_revision': 'Revised rationale',\n",
    "    'answers_preds_unrevised': 'Answers (student MT+CF:Unrevised)',\n",
    "    'answers_preds_revised': 'Answers (student MT+CF:Revised)',\n",
    "    'rationales_preds_unrevised': 'Explanation (student MT+CF:Unrevised)',\n",
    "    'rationales_preds_revised': 'Explanation (student MT+CF:Revised)'\n",
    "    }"
   ]
  },
  {
   "cell_type": "code",
   "execution_count": 25,
   "id": "d3636c69",
   "metadata": {},
   "outputs": [],
   "source": [
    "trn_data = trn_data.rename(rename, axis=1)"
   ]
  },
  {
   "cell_type": "code",
   "execution_count": 26,
   "id": "10b0bc11",
   "metadata": {},
   "outputs": [],
   "source": [
    "trn_data = trn_data.drop([col for col in trn_data.columns if not col in rename.values()], axis=1)"
   ]
  },
  {
   "cell_type": "code",
   "execution_count": 27,
   "id": "449f17b7",
   "metadata": {},
   "outputs": [
    {
     "data": {
      "text/plain": [
       "Index(['Question', 'Choices', 'Ground truth', 'Unrevised rationale',\n",
       "       'Revised rationale'],\n",
       "      dtype='object')"
      ]
     },
     "execution_count": 27,
     "metadata": {},
     "output_type": "execute_result"
    }
   ],
   "source": [
    "trn_data.columns    "
   ]
  },
  {
   "cell_type": "code",
   "execution_count": 28,
   "id": "f197da21",
   "metadata": {},
   "outputs": [
    {
     "data": {
      "text/plain": [
       "Question                                                                                                                                                                                                                                                \"There are 10 apples on an apple tree.  Three fall off.  Now there are X apples.\"  What is this an example of?\n",
       "Choices                                                                                                                                                                                                                                                                                                    [park, coloring book, garden center, math problem, gravity]\n",
       "Ground truth                                                                                                                                                                                                                                                                                                                                              math problem\n",
       "Unrevised rationale                                                                                  This type of problem is typically used in arithmetic or algebra to practice simple subtraction. The initial statement sets up a simple equation, in which three apples fall off, leaving the remaining apples, which can be solved by subtracting three from ten.\n",
       "Revised rationale      This type of problem involves simple subtraction, as three apples fall off the tree, leaving X apples remaining. The initial statement sets up an arithmetic equation that can be solved by subtracting three from ten. Other options, such as 'park', 'coloring book', 'garden center', and 'gravity', do not relate to the problem statement.\n",
       "Name: 0, dtype: object"
      ]
     },
     "execution_count": 28,
     "metadata": {},
     "output_type": "execute_result"
    }
   ],
   "source": [
    "trn_data.iloc[0]"
   ]
  },
  {
   "cell_type": "code",
   "execution_count": 29,
   "id": "75d141f9",
   "metadata": {},
   "outputs": [],
   "source": [
    "import pandas as pd\n",
    "\n",
    "def count_mentions(text, choices, correct_answer):\n",
    "    return [text.lower().count(ans.lower()) for ans in choices if ans != correct_answer]\n",
    "\n",
    "def compare_mentions(df):\n",
    "    \"\"\"\n",
    "    Compare mentions of incorrect choices between unrevised and revised rationales.\n",
    "    \n",
    "    Args:\n",
    "        df (pandas.DataFrame): DataFrame containing 'Choices', 'Ground truth', \n",
    "            'Unrevised rationale', and 'Revised rationale' columns\n",
    "    \n",
    "    Returns:\n",
    "        pandas.DataFrame: DataFrame with columns 'id', 'correct', 'choices', \n",
    "            'wrong_mentioned_more' containing analysis results\n",
    "    \"\"\"\n",
    "    rows = []\n",
    "    for idx, row in df.iterrows():\n",
    "        choices = row['Choices']\n",
    "        correct = row['Ground truth'].strip()\n",
    "        unrevised = count_mentions(row['Unrevised rationale'], choices, correct)\n",
    "        revised = count_mentions(row['Revised rationale'], choices, correct)\n",
    "        wrong_mentioned_more = sum(r > u for u, r in zip(unrevised, revised))\n",
    "        rows.append({\n",
    "            'id': idx,\n",
    "            'correct': correct,\n",
    "            'choices': choices,\n",
    "            'wrong_mentioned_more': wrong_mentioned_more\n",
    "        })\n",
    "    return pd.DataFrame(rows)\n",
    "\n",
    "results = compare_mentions(trn_data)"
   ]
  },
  {
   "cell_type": "code",
   "execution_count": 30,
   "id": "589f9394",
   "metadata": {},
   "outputs": [
    {
     "data": {
      "text/plain": [
       "np.float64(1.6628682886767272)"
      ]
     },
     "execution_count": 30,
     "metadata": {},
     "output_type": "execute_result"
    }
   ],
   "source": [
    "results['wrong_mentioned_more'].mean()"
   ]
  },
  {
   "cell_type": "code",
   "execution_count": null,
   "id": "478ddef4",
   "metadata": {},
   "outputs": [],
   "source": []
  },
  {
   "cell_type": "code",
   "execution_count": 31,
   "id": "32a3855c",
   "metadata": {},
   "outputs": [
    {
     "name": "stderr",
     "output_type": "stream",
     "text": [
      "/Users/danielhendriks/miniforge3/envs/model-distillation/lib/python3.11/site-packages/torchvision/io/image.py:14: UserWarning: Failed to load image Python extension: 'dlopen(/Users/danielhendriks/miniforge3/envs/model-distillation/lib/python3.11/site-packages/torchvision/image.so, 0x0006): Library not loaded: @rpath/libjpeg.9.dylib\n",
      "  Referenced from: <EB3FF92A-5EB1-3EE8-AF8B-5923C1265422> /Users/danielhendriks/miniforge3/envs/model-distillation/lib/python3.11/site-packages/torchvision/image.so\n",
      "  Reason: tried: '/Users/danielhendriks/miniforge3/envs/model-distillation/lib/python3.11/site-packages/torchvision/../../../libjpeg.9.dylib' (no such file), '/Users/danielhendriks/miniforge3/envs/model-distillation/lib/python3.11/site-packages/torchvision/../../../libjpeg.9.dylib' (no such file), '/Users/danielhendriks/miniforge3/envs/model-distillation/lib/python3.11/lib-dynload/../../libjpeg.9.dylib' (no such file), '/Users/danielhendriks/miniforge3/envs/model-distillation/bin/../lib/libjpeg.9.dylib' (no such file)'If you don't plan on using image functionality from `torchvision.io`, you can ignore this warning. Otherwise, there might be something wrong with your environment. Did you have `libjpeg` or `libpng` installed before building `torchvision` from source?\n",
      "  warn(\n"
     ]
    }
   ],
   "source": [
    "from sentence_transformers import SentenceTransformer, util\n",
    "import pandas as pd\n",
    "\n",
    "# load a pre-trained embedding model\n",
    "model = SentenceTransformer('all-MiniLM-L6-v2')\n",
    "#TODO add to requirements.txt sentence-transformers\n"
   ]
  },
  {
   "cell_type": "code",
   "execution_count": 32,
   "id": "d7cc24d5",
   "metadata": {},
   "outputs": [
    {
     "name": "stdout",
     "output_type": "stream",
     "text": [
      "22.0 M\n"
     ]
    }
   ],
   "source": [
    "total_params = 0\n",
    "for p in model.parameters():\n",
    "    try:\n",
    "        params = p.shape[0] * p.shape[1]\n",
    "    except IndexError:\n",
    "        params = p.shape[0]\n",
    "    total_params += params\n",
    "    \n",
    "print(total_params // 1e6, \"M\")"
   ]
  },
  {
   "cell_type": "code",
   "execution_count": 33,
   "id": "26fa7ec0",
   "metadata": {},
   "outputs": [
    {
     "name": "stderr",
     "output_type": "stream",
     "text": [
      "100it [00:10,  9.25it/s]"
     ]
    },
    {
     "name": "stdout",
     "output_type": "stream",
     "text": [
      "   id  avg_sim_unrevised_to_choices  avg_sim_revised_to_choices  \\\n",
      "0   0                      0.048680                    0.212555   \n",
      "1   1                      0.120945                    0.232977   \n",
      "2   2                      0.217777                    0.286960   \n",
      "3   3                      0.070505                    0.053296   \n",
      "4   4                      0.238088                    0.218102   \n",
      "\n",
      "   delta_sim_to_choices  avg_sim_unrevised_to_answer  \\\n",
      "0              0.163875                     0.452747   \n",
      "1              0.112032                     0.407820   \n",
      "2              0.069183                     0.557438   \n",
      "3             -0.017209                     0.399255   \n",
      "4             -0.019986                     0.614546   \n",
      "\n",
      "   avg_sim_revised_to_answer  delta_sim_to_answer  \n",
      "0                   0.507475             0.054729  \n",
      "1                   0.381433            -0.026387  \n",
      "2                   0.428989            -0.128449  \n",
      "3                   0.321962            -0.077294  \n",
      "4                   0.581964            -0.032582  \n"
     ]
    },
    {
     "name": "stderr",
     "output_type": "stream",
     "text": [
      "\n"
     ]
    }
   ],
   "source": [
    "from tqdm.auto import tqdm\n",
    "def compute_similarity(df):\n",
    "    sims = []\n",
    "    for idx, row in tqdm(df.iterrows(), ncols=100):\n",
    "        choices = [c for c in row['Choices'] if c != row['Ground truth']]\n",
    "        unrevised_emb = model.encode(row['Unrevised rationale'], convert_to_tensor=True)\n",
    "        revised_emb   = model.encode(row['Revised rationale'], convert_to_tensor=True)\n",
    "        choice_embs   = model.encode(choices, convert_to_tensor=True)\n",
    "        truth_embs    = model.encode(row['Ground truth'], convert_to_tensor=True)\n",
    "        \n",
    "        # compute cosine similarity to each distractor\n",
    "        unrevised_sims_to_choices = util.cos_sim(unrevised_emb, choice_embs).squeeze().tolist()\n",
    "        revised_sims_to_choices   = util.cos_sim(revised_emb, choice_embs).squeeze().tolist()\n",
    "        \n",
    "        unrevised_sims_to_answer = [util.cos_sim(unrevised_emb, truth_embs).squeeze().tolist()]\n",
    "        revised_sims_to_answer   = [util.cos_sim(revised_emb, truth_embs).squeeze().tolist()]\n",
    "        \n",
    "        # compute average similarity to distractors\n",
    "        sims.append({\n",
    "            'id': idx,\n",
    "            'avg_sim_unrevised_to_choices': sum(unrevised_sims_to_choices)/len(unrevised_sims_to_choices),\n",
    "            'avg_sim_revised_to_choices': sum(revised_sims_to_choices)/len(revised_sims_to_choices),\n",
    "            'delta_sim_to_choices': sum(revised_sims_to_choices)/len(revised_sims_to_choices) - sum(unrevised_sims_to_choices)/len(unrevised_sims_to_choices),\n",
    "            'avg_sim_unrevised_to_answer': sum(unrevised_sims_to_answer)/len(unrevised_sims_to_answer),\n",
    "            'avg_sim_revised_to_answer': sum(revised_sims_to_answer)/len(revised_sims_to_answer),\n",
    "            'delta_sim_to_answer': sum(revised_sims_to_answer)/len(revised_sims_to_answer) - sum(unrevised_sims_to_answer)/len(unrevised_sims_to_answer)\n",
    "        })\n",
    "    return pd.DataFrame(sims)\n",
    "\n",
    "# usage\n",
    "sim_df = compute_similarity(trn_data.head(100))\n",
    "print(sim_df.head())\n"
   ]
  },
  {
   "cell_type": "code",
   "execution_count": 34,
   "id": "402f9ba5",
   "metadata": {},
   "outputs": [
    {
     "data": {
      "text/plain": [
       "id                              49.500000\n",
       "avg_sim_unrevised_to_choices     0.147368\n",
       "avg_sim_revised_to_choices       0.195507\n",
       "delta_sim_to_choices             0.048138\n",
       "avg_sim_unrevised_to_answer      0.417531\n",
       "avg_sim_revised_to_answer        0.441186\n",
       "delta_sim_to_answer              0.023655\n",
       "dtype: float64"
      ]
     },
     "execution_count": 34,
     "metadata": {},
     "output_type": "execute_result"
    }
   ],
   "source": [
    "sim_df.mean(axis=0)"
   ]
  },
  {
   "cell_type": "code",
   "execution_count": 35,
   "id": "d2f5639f",
   "metadata": {},
   "outputs": [],
   "source": [
    "def compute_similarity_with_ground_truth(df):\n",
    "    rows = []\n",
    "    for idx, row in df.iterrows():\n",
    "        choices = [c for c in row['Choices'] if c != row['Ground truth']]\n",
    "        ground = row['Ground truth']\n",
    "        \n",
    "        unrevised_emb = model.encode(row['Unrevised rationale'], convert_to_tensor=True)\n",
    "        revised_emb   = model.encode(row['Revised rationale'], convert_to_tensor=True)\n",
    "        choice_embs   = model.encode(choices, convert_to_tensor=True)\n",
    "        ground_emb    = model.encode(ground, convert_to_tensor=True)\n",
    "        \n",
    "        unrevised_sim_choices = util.cos_sim(unrevised_emb, choice_embs).squeeze().tolist()\n",
    "        revised_sim_choices   = util.cos_sim(revised_emb, choice_embs).squeeze().tolist()\n",
    "        \n",
    "        unrevised_sim_ground = util.cos_sim(unrevised_emb, ground_emb).item()\n",
    "        revised_sim_ground   = util.cos_sim(revised_emb, ground_emb).item()\n",
    "        \n",
    "        rows.append({\n",
    "            'id': idx,\n",
    "            'avg_sim_choices_unrevised': sum(unrevised_sim_choices)/len(unrevised_sim_choices),\n",
    "            'avg_sim_choices_revised': sum(revised_sim_choices)/len(revised_sim_choices),\n",
    "            'sim_ground_unrevised': unrevised_sim_ground,\n",
    "            'sim_ground_revised': revised_sim_ground,\n",
    "            'delta_choices': sum(revised_sim_choices)/len(revised_sim_choices) - sum(unrevised_sim_choices)/len(unrevised_sim_choices),\n",
    "            'delta_ground': revised_sim_ground - unrevised_sim_ground\n",
    "        })\n",
    "    return pd.DataFrame(rows)\n",
    "\n",
    "# usage\n",
    "sim_df = compute_similarity_with_ground_truth(trn_data.head(100))\n",
    "# print(sim_df.head())\n"
   ]
  },
  {
   "cell_type": "code",
   "execution_count": 36,
   "id": "6a0c52c1",
   "metadata": {},
   "outputs": [
    {
     "data": {
      "text/plain": [
       "id                           49.500000\n",
       "avg_sim_choices_unrevised     0.147368\n",
       "avg_sim_choices_revised       0.195507\n",
       "sim_ground_unrevised          0.417531\n",
       "sim_ground_revised            0.441186\n",
       "delta_choices                 0.048138\n",
       "delta_ground                  0.023655\n",
       "dtype: float64"
      ]
     },
     "execution_count": 36,
     "metadata": {},
     "output_type": "execute_result"
    }
   ],
   "source": [
    "sim_df.mean(axis=0)"
   ]
  },
  {
   "cell_type": "code",
   "execution_count": null,
   "id": "0f3c34da",
   "metadata": {},
   "outputs": [],
   "source": [
    "import pandas as pd\n",
    "import re\n",
    "import spacy\n",
    "from sentence_transformers import SentenceTransformer, util\n",
    "\n",
    "# Load NLP models\n",
    "nlp = spacy.load(\"en_core_web_sm\")\n",
    "# model = SentenceTransformer('all-MiniLM-L6-v2')\n",
    "\n",
    "# --- Basic text features ---\n",
    "def length_features(text):\n",
    "    doc = nlp(text)\n",
    "    return {\n",
    "        'num_words': len(doc),\n",
    "        'num_sents': len(list(doc.sents)),\n",
    "        'num_negations': sum(1 for token in doc if token.dep_ == 'neg')\n",
    "    }\n",
    "\n",
    "def count_distractor_mentions(text, choices, correct):\n",
    "    return sum(text.lower().count(c.lower()) for c in choices if c != correct)\n",
    "\n",
    "def semantic_features(text, choices, correct):\n",
    "    text_emb = model.encode(text, convert_to_tensor=True)\n",
    "    choice_embs = model.encode([c for c in choices if c != correct], convert_to_tensor=True)\n",
    "    correct_emb = model.encode(correct, convert_to_tensor=True)\n",
    "    \n",
    "    avg_choice_sim = util.cos_sim(text_emb, choice_embs).mean().item()\n",
    "    correct_sim = util.cos_sim(text_emb, correct_emb).item()\n",
    "    return avg_choice_sim, correct_sim\n",
    "\n",
    "# --- Main feature extraction ---\n",
    "def extract_features(df):\n",
    "    rows = []\n",
    "    for idx, row in df.iterrows():\n",
    "        choices = row['Choices']\n",
    "        correct = row['Ground truth'].strip()\n",
    "        unrevised_text = row['Unrevised rationale']\n",
    "        revised_text = row['Revised rationale']\n",
    "        \n",
    "        # Length and negations\n",
    "        len_unrev = length_features(unrevised_text)\n",
    "        len_rev   = length_features(revised_text)\n",
    "        \n",
    "        # Distractor mentions\n",
    "        dm_unrev = count_distractor_mentions(unrevised_text, choices, correct)\n",
    "        dm_rev   = count_distractor_mentions(revised_text, choices, correct)\n",
    "        \n",
    "        # Semantic similarity\n",
    "        avg_sim_unrev, sim_gt_unrev = semantic_features(unrevised_text, choices, correct)\n",
    "        avg_sim_rev, sim_gt_rev     = semantic_features(revised_text, choices, correct)\n",
    "        \n",
    "        rows.append({\n",
    "            'id': idx,\n",
    "            'num_words_unrev': len_unrev['num_words'],\n",
    "            'num_words_rev': len_rev['num_words'],\n",
    "            'num_sents_unrev': len_unrev['num_sents'],\n",
    "            'num_sents_rev': len_rev['num_sents'],\n",
    "            'num_negations_unrev': len_unrev['num_negations'],\n",
    "            'num_negations_rev': len_rev['num_negations'],\n",
    "            'distractor_mentions_unrev': dm_unrev,\n",
    "            'distractor_mentions_rev': dm_rev,\n",
    "            'delta_distractor_mentions': dm_rev - dm_unrev,\n",
    "            'avg_choice_sim_unrev': avg_sim_unrev,\n",
    "            'avg_choice_sim_rev': avg_sim_rev,\n",
    "            'delta_choice_sim': avg_sim_rev - avg_sim_unrev,\n",
    "            'sim_ground_unrev': sim_gt_unrev,\n",
    "            'sim_ground_rev': sim_gt_rev,\n",
    "            'delta_ground_sim': sim_gt_rev - sim_gt_unrev\n",
    "        })\n",
    "    return pd.DataFrame(rows)\n",
    "\n",
    "# Usage:\n",
    "feature_df = extract_features(trn_data)\n",
    "# print(feature_df.head())\n",
    "#TODO run analysis with full dataset\n"
   ]
  },
  {
   "cell_type": "code",
   "execution_count": null,
   "id": "0fc3ea9f",
   "metadata": {},
   "outputs": [
    {
     "data": {
      "text/plain": [
       "id                           4870.000000\n",
       "num_words_unrev                44.544297\n",
       "num_words_rev                 114.299148\n",
       "num_sents_unrev                 1.717791\n",
       "num_sents_rev                   4.506108\n",
       "num_negations_unrev             0.129966\n",
       "num_negations_rev               1.256237\n",
       "distractor_mentions_unrev       0.181809\n",
       "distractor_mentions_rev         2.205934\n",
       "delta_distractor_mentions       2.024125\n",
       "avg_choice_sim_unrev            0.167756\n",
       "avg_choice_sim_rev              0.209466\n",
       "delta_choice_sim                0.041710\n",
       "sim_ground_unrev                0.424819\n",
       "sim_ground_rev                  0.436203\n",
       "delta_ground_sim                0.011385\n",
       "dtype: float64"
      ]
     },
     "execution_count": 38,
     "metadata": {},
     "output_type": "execute_result"
    }
   ],
   "source": [
    "feature_df.mean(axis=0)"
   ]
  },
  {
   "cell_type": "code",
   "execution_count": null,
   "id": "8b2e5184",
   "metadata": {},
   "outputs": [],
   "source": [
    "len(trn_data)"
   ]
  },
  {
   "cell_type": "code",
   "execution_count": null,
   "id": "ce649b74",
   "metadata": {},
   "outputs": [],
   "source": []
  }
 ],
 "metadata": {
  "kernelspec": {
   "display_name": "model-distillation",
   "language": "python",
   "name": "python3"
  },
  "language_info": {
   "codemirror_mode": {
    "name": "ipython",
    "version": 3
   },
   "file_extension": ".py",
   "mimetype": "text/x-python",
   "name": "python",
   "nbconvert_exporter": "python",
   "pygments_lexer": "ipython3",
   "version": "3.11.13"
  }
 },
 "nbformat": 4,
 "nbformat_minor": 5
}
